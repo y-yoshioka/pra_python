{
 "cells": [
  {
   "cell_type": "code",
   "execution_count": 1,
   "id": "5dcf4705-6089-4e60-b150-75c4cda76d27",
   "metadata": {},
   "outputs": [],
   "source": [
    "import numpy as np\n",
    "import matplotlib.pyplot as plt"
   ]
  },
  {
   "cell_type": "code",
   "execution_count": 2,
   "id": "6904cfbd-4ba1-4ecf-9496-92a3b8ebed9f",
   "metadata": {},
   "outputs": [],
   "source": [
    "# 学習データを読み込む\n",
    "train = np.loadtxt('images1.csv', delimiter=',', skiprows=1)\n",
    "train_x = train[:,0:2]\n",
    "train_y = train[:,2]"
   ]
  },
  {
   "cell_type": "code",
   "execution_count": 4,
   "id": "eff494a3-61a2-4256-b556-20408137b94e",
   "metadata": {},
   "outputs": [
    {
     "data": {
      "text/plain": [
       "array([[153., 432.],\n",
       "       [220., 262.],\n",
       "       [118., 214.],\n",
       "       [474., 384.],\n",
       "       [485., 411.],\n",
       "       [233., 430.],\n",
       "       [396., 321.],\n",
       "       [484., 349.],\n",
       "       [429., 259.],\n",
       "       [286., 220.],\n",
       "       [399., 433.],\n",
       "       [403., 300.],\n",
       "       [252.,  34.],\n",
       "       [497., 372.],\n",
       "       [379., 416.],\n",
       "       [ 76., 163.],\n",
       "       [263., 112.],\n",
       "       [ 26., 193.],\n",
       "       [ 61., 473.],\n",
       "       [420., 253.]])"
      ]
     },
     "execution_count": 4,
     "metadata": {},
     "output_type": "execute_result"
    }
   ],
   "source": [
    "train_x"
   ]
  },
  {
   "cell_type": "code",
   "execution_count": 5,
   "id": "326d2300-383c-428a-9c9c-e358e662a2be",
   "metadata": {},
   "outputs": [
    {
     "data": {
      "text/plain": [
       "array([-1., -1., -1.,  1.,  1., -1.,  1.,  1.,  1.,  1., -1.,  1.,  1.,\n",
       "        1., -1., -1.,  1., -1., -1.,  1.])"
      ]
     },
     "execution_count": 5,
     "metadata": {},
     "output_type": "execute_result"
    }
   ],
   "source": [
    "train_y"
   ]
  },
  {
   "cell_type": "code",
   "execution_count": 3,
   "id": "124af64b-f936-4cda-a729-2165577d4984",
   "metadata": {},
   "outputs": [],
   "source": [
    "# プロット"
   ]
  },
  {
   "cell_type": "code",
   "execution_count": 7,
   "id": "b8b16804-8498-486d-a497-84311390b6fe",
   "metadata": {},
   "outputs": [
    {
     "data": {
      "text/plain": [
       "array([474., 485., 396., 484., 429., 286., 403., 252., 497., 263., 420.])"
      ]
     },
     "execution_count": 7,
     "metadata": {},
     "output_type": "execute_result"
    }
   ],
   "source": [
    "train_x[train_y == 1, 0]"
   ]
  },
  {
   "cell_type": "code",
   "execution_count": 8,
   "id": "ec9b68e3-ff7d-4830-9405-6ee4118f62f9",
   "metadata": {},
   "outputs": [
    {
     "data": {
      "text/plain": [
       "array([384., 411., 321., 349., 259., 220., 300.,  34., 372., 112., 253.])"
      ]
     },
     "execution_count": 8,
     "metadata": {},
     "output_type": "execute_result"
    }
   ],
   "source": [
    "train_x[train_y == 1, 1]"
   ]
  },
  {
   "cell_type": "code",
   "execution_count": 10,
   "id": "d0c8084e-ece2-4660-9aff-a42c6479e04d",
   "metadata": {},
   "outputs": [
    {
     "data": {
      "text/plain": [
       "[<matplotlib.lines.Line2D at 0x7fdab0093df0>]"
      ]
     },
     "execution_count": 10,
     "metadata": {},
     "output_type": "execute_result"
    },
    {
     "data": {
      "image/png": "[encoded data removed]",
      "text/plain": [
       "<Figure size 432x288 with 1 Axes>"
      ]
     },
     "metadata": {
      "needs_background": "light"
     },
     "output_type": "display_data"
    }
   ],
   "source": [
    "plt.plot(train_x[train_y == 1, 0], train_x[train_y == 1, 1], 'o')"
   ]
  },
  {
   "cell_type": "code",
   "execution_count": 11,
   "id": "7499b54a-fb6d-4dac-8b04-18f43773f3e5",
   "metadata": {},
   "outputs": [
    {
     "data": {
      "text/plain": [
       "[<matplotlib.lines.Line2D at 0x7fdae82941c0>]"
      ]
     },
     "execution_count": 11,
     "metadata": {},
     "output_type": "execute_result"
    },
    {
     "data": {
      "image/png": "[encoded data removed]",
      "text/plain": [
       "<Figure size 432x288 with 1 Axes>"
      ]
     },
     "metadata": {
      "needs_background": "light"
     },
     "output_type": "display_data"
    }
   ],
   "source": [
    "plt.plot(train_x[train_y == -1, 0], train_x[train_y == -1, 1], 'x')"
   ]
  },
  {
   "cell_type": "code",
   "execution_count": 16,
   "id": "5ade307b-1cde-4e8c-a425-edcb018872fe",
   "metadata": {},
   "outputs": [
    {
     "data": {
      "image/png": "[encoded data removed]",
      "text/plain": [
       "<Figure size 432x288 with 1 Axes>"
      ]
     },
     "metadata": {
      "needs_background": "light"
     },
     "output_type": "display_data"
    }
   ],
   "source": [
    "plt.plot(train_x[train_y == 1, 0], train_x[train_y == 1, 1], 'o')\n",
    "plt.plot(train_x[train_y == -1, 0], train_x[train_y == -1, 1], 'x')\n",
    "plt.axis('scaled')\n",
    "plt.show()"
   ]
  },
  {
   "cell_type": "code",
   "execution_count": null,
   "id": "ee1312bb-4c5f-471c-a7af-651064466c86",
   "metadata": {},
   "outputs": [],
   "source": []
  }
 ],
 "metadata": {
  "kernelspec": {
   "display_name": "Python 3",
   "language": "python",
   "name": "python3"
  },
  "language_info": {
   "codemirror_mode": {
    "name": "ipython",
    "version": 3
   },
   "file_extension": ".py",
   "mimetype": "text/x-python",
   "name": "python",
   "nbconvert_exporter": "python",
   "pygments_lexer": "ipython3",
   "version": "3.8.8"
  }
 },
 "nbformat": 4,
 "nbformat_minor": 5
}
