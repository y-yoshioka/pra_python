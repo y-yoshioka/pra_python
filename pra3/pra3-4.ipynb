{
 "cells": [
  {
   "cell_type": "code",
   "execution_count": 1,
   "id": "257e7d07-fd23-4261-a48a-6fcca4c77b36",
   "metadata": {},
   "outputs": [],
   "source": [
    "import numpy as np\n",
    "import matplotlib.pyplot as plt"
   ]
  },
  {
   "cell_type": "code",
   "execution_count": 2,
   "id": "90e360e3-cc35-4bdb-9f20-70d161bb0e27",
   "metadata": {},
   "outputs": [],
   "source": [
    "# 学習データを読み込む\n",
    "train = np.loadtxt('data3.csv', delimiter=',', skiprows=1)\n",
    "train_x = train[:,0:2]\n",
    "train_y = train[:,2]"
   ]
  },
  {
   "cell_type": "code",
   "execution_count": 4,
   "id": "d932b823-0288-4202-ae6e-77f551e196ab",
   "metadata": {},
   "outputs": [
    {
     "data": {
      "image/png": "[encoded data removed]",
      "text/plain": [
       "<Figure size 432x288 with 1 Axes>"
      ]
     },
     "metadata": {
      "needs_background": "light"
     },
     "output_type": "display_data"
    }
   ],
   "source": [
    "plt.plot(train_x[train_y == 1, 0], train_x[train_y == 1, 1], 'o')\n",
    "plt.plot(train_x[train_y == 0, 0], train_x[train_y == 0, 1], 'x')\n",
    "plt.show()"
   ]
  },
  {
   "cell_type": "code",
   "execution_count": 5,
   "id": "a07883ee-6438-443d-af2d-51c432c00dc2",
   "metadata": {},
   "outputs": [],
   "source": [
    "# パラメータを初期化\n",
    "theta = np.random.rand(4)"
   ]
  },
  {
   "cell_type": "code",
   "execution_count": 6,
   "id": "7fb21116-256e-4add-bda4-8f1edd8407e4",
   "metadata": {},
   "outputs": [],
   "source": [
    "# 標準化\n",
    "mu = train_x.mean(axis=0)\n",
    "sigma = train_x.std(axis=0)\n",
    "def standardize(x):\n",
    "    return (x - mu) / sigma"
   ]
  },
  {
   "cell_type": "code",
   "execution_count": 7,
   "id": "1bd75bec-f383-4af3-bd73-5d71fec51b1d",
   "metadata": {},
   "outputs": [],
   "source": [
    "train_z = standardize(train_x)"
   ]
  },
  {
   "cell_type": "code",
   "execution_count": 8,
   "id": "365a9202-9ff3-4d07-a333-8374575e6487",
   "metadata": {},
   "outputs": [],
   "source": [
    "# x0とx3を加える\n",
    "def to_matrix(x):\n",
    "    x0 = np.ones([x.shape[0], 1])\n",
    "    x3 = x[:,0,np.newaxis] ** 2\n",
    "    return np.hstack([x0, x, x3])"
   ]
  },
  {
   "cell_type": "code",
   "execution_count": 13,
   "id": "42ff8c40-394f-48bd-8722-250664ef8b85",
   "metadata": {},
   "outputs": [],
   "source": [
    "X = to_matrix(train_z)"
   ]
  },
  {
   "cell_type": "code",
   "execution_count": 14,
   "id": "f53ba53e-62b1-433b-8698-2b45545a88ba",
   "metadata": {},
   "outputs": [],
   "source": [
    "# シグモイド関数\n",
    "def f(x):\n",
    "    return 1 / (1 + np.exp(-np.dot(x, theta)))"
   ]
  },
  {
   "cell_type": "code",
   "execution_count": 18,
   "id": "6210d678-3561-43f5-931e-2c7d980aaa69",
   "metadata": {},
   "outputs": [
    {
     "name": "stdout",
     "output_type": "stream",
     "text": [
      "500回目: theta = [-2.70253598  1.58610317 -4.06392279  2.52242463]\n",
      "1000回目: theta = [-2.81419539  1.63176139 -4.18833561  2.61072054]\n",
      "1500回目: theta = [-2.91840639  1.67495074 -4.30590096  2.69350374]\n",
      "2000回目: theta = [-3.016148    1.71601763 -4.41753082  2.77148818]\n",
      "2500回目: theta = [-3.10821606  1.75523845 -4.52395728  2.84525335]\n",
      "3000回目: theta = [-3.19526631  1.79283724 -4.62577801  2.91527663]\n",
      "3500回目: theta = [-3.27784554  1.82899812 -4.72348801  2.98195631]\n",
      "4000回目: theta = [-3.35641455  1.86387428 -4.81750232  3.04562849]\n",
      "4500回目: theta = [-3.4313654   1.89759452 -4.90817281  3.10657958]\n",
      "5000回目: theta = [-3.50303452  1.9302682  -4.99580057  3.16505579]\n"
     ]
    }
   ],
   "source": [
    "# 学習率\n",
    "ETA = 1e-3\n",
    "\n",
    "# 繰り返し回数\n",
    "epoch = 5000\n",
    "\n",
    "# 更新回数\n",
    "count = 0\n",
    "\n",
    "# 学習を繰り返す\n",
    "for _ in range(epoch):\n",
    "    theta = theta - ETA * np.dot(f(X) - train_y, X)\n",
    "\n",
    "    # ログの出力\n",
    "    count += 1\n",
    "    if count % 500 == 0:\n",
    "        print('{}回目: theta = {}'.format(count, theta))"
   ]
  },
  {
   "cell_type": "code",
   "execution_count": 19,
   "id": "98724beb-4804-42b5-aa57-a64ca03495e9",
   "metadata": {},
   "outputs": [
    {
     "data": {
      "image/png": "[encoded data removed]",
      "text/plain": [
       "<Figure size 432x288 with 1 Axes>"
      ]
     },
     "metadata": {
      "needs_background": "light"
     },
     "output_type": "display_data"
    }
   ],
   "source": [
    "# プロットして確認\n",
    "x1 = np.linspace(-2, 2, 100)\n",
    "x2 = -(theta[0] + theta[1] * x1 + theta[3] * x1 ** 2) / theta[2]\n",
    "plt.plot(train_z[train_y == 1, 0], train_z[train_y == 1, 1], 'o')\n",
    "plt.plot(train_z[train_y == 0, 0], train_z[train_y == 0, 1], 'x')\n",
    "plt.plot(x1, x2, linestyle='dashed')\n",
    "plt.show()"
   ]
  },
  {
   "cell_type": "code",
   "execution_count": 20,
   "id": "9fc547d5-354c-4bfa-bd99-99dbda8bcf95",
   "metadata": {},
   "outputs": [],
   "source": [
    "# パラメータを初期化\n",
    "theta = np.random.rand(4)"
   ]
  },
  {
   "cell_type": "code",
   "execution_count": 21,
   "id": "0745a4cc-a0b0-46a2-96fd-87522d4f1225",
   "metadata": {},
   "outputs": [],
   "source": [
    "#1 精度の履歴\n",
    "accuracies = []"
   ]
  },
  {
   "cell_type": "code",
   "execution_count": 25,
   "id": "5ad45a1a-f395-47f1-be14-9b5013bec66b",
   "metadata": {},
   "outputs": [],
   "source": [
    "# 分類関数\n",
    "def classify(x):\n",
    "    return (f(x) >= 0.5).astype(np.int64)"
   ]
  },
  {
   "cell_type": "code",
   "execution_count": 26,
   "id": "a417252e-65c3-47dc-a4c5-d2a133362674",
   "metadata": {},
   "outputs": [],
   "source": [
    "# 学習を繰り返す\n",
    "for _ in range(epoch):\n",
    "    theta = theta - ETA * np.dot(f(X) - train_y, X)\n",
    "    # 現在の精度を計算\n",
    "    result = classify(X) == train_y\n",
    "    accuracy = len(result[result == True]) / len(result)\n",
    "    accuracies.append(accuracy)"
   ]
  },
  {
   "cell_type": "code",
   "execution_count": 28,
   "id": "7f01a58d-f9bc-40ff-a9b6-3340328eafed",
   "metadata": {},
   "outputs": [],
   "source": [
    "# 精度をプロット\n",
    "x = np.arange(len(accuracies))"
   ]
  },
  {
   "cell_type": "code",
   "execution_count": 29,
   "id": "14739447-9767-4da6-b4ff-2d73ea97cb45",
   "metadata": {},
   "outputs": [
    {
     "data": {
      "text/plain": [
       "[<matplotlib.lines.Line2D at 0x7fca7860c7c0>]"
      ]
     },
     "execution_count": 29,
     "metadata": {},
     "output_type": "execute_result"
    },
    {
     "data": {
      "image/png": "[encoded data removed]",
      "text/plain": [
       "<Figure size 432x288 with 1 Axes>"
      ]
     },
     "metadata": {
      "needs_background": "light"
     },
     "output_type": "display_data"
    }
   ],
   "source": [
    "plt.plot(x, accuracies)"
   ]
  },
  {
   "cell_type": "code",
   "execution_count": 30,
   "id": "076ea097-e989-4126-a743-7bcdc3de52a0",
   "metadata": {},
   "outputs": [],
   "source": [
    "# パラメータを初期化\n",
    "theta = np.random.rand(4)"
   ]
  },
  {
   "cell_type": "code",
   "execution_count": 40,
   "id": "2a5b8548-293e-48b5-9188-0c220f1aba69",
   "metadata": {},
   "outputs": [
    {
     "name": "stdout",
     "output_type": "stream",
     "text": [
      "500回目: theta = [-4.12537623  2.23520236 -5.79991863  3.68084154]\n",
      "1000回目: theta = [-4.17321133  2.26019265 -5.86487573  3.72112558]\n",
      "1500回目: theta = [-4.21977435  2.28474215 -5.92858842  3.76038435]\n",
      "2000回目: theta = [-4.26511687  2.30890144 -5.99109701  3.79871685]\n",
      "2500回目: theta = [-4.30931971  2.33266987 -6.05247488  3.83614414]\n",
      "3000回目: theta = [-4.35242589  2.35608757 -6.11275987  3.87274349]\n",
      "3500回目: theta = [-4.39451754  2.37913651 -6.17202597  3.90850987]\n",
      "4000回目: theta = [-4.43561829  2.40186902 -6.23029327  3.94353274]\n",
      "4500回目: theta = [-4.47579014  2.42427982 -6.28761769  3.97782338]\n",
      "5000回目: theta = [-4.51507853  2.44638273 -6.34403668  4.01141753]\n"
     ]
    }
   ],
   "source": [
    "# 学習を繰り返す\n",
    "count = 0\n",
    "for _ in range(epoch):\n",
    "    # 確率的勾配降下法\n",
    "    p = np.random.permutation(X.shape[0])\n",
    "    for x, y in zip(X[p,:], train_y[p]):\n",
    "        theta = theta - ETA * (f(x) - y) * x\n",
    "    # ログの出力\n",
    "    count += 1\n",
    "    if count%500 == 0:\n",
    "        print('{}回目: theta = {}'.format(count, theta))"
   ]
  },
  {
   "cell_type": "code",
   "execution_count": 35,
   "id": "336e96b7-02ce-4986-bc3c-c990450562af",
   "metadata": {},
   "outputs": [
    {
     "data": {
      "text/plain": [
       "20"
      ]
     },
     "execution_count": 35,
     "metadata": {},
     "output_type": "execute_result"
    }
   ],
   "source": [
    "X.shape[0]"
   ]
  },
  {
   "cell_type": "code",
   "execution_count": 36,
   "id": "c1bddfb6-fbe8-46e3-a926-8a98774f2b15",
   "metadata": {},
   "outputs": [
    {
     "data": {
      "text/plain": [
       "array([ 7,  2, 17, 10, 14, 15,  3,  6,  4, 13,  1,  5,  0, 16,  8, 18,  9,\n",
       "       12, 19, 11])"
      ]
     },
     "execution_count": 36,
     "metadata": {},
     "output_type": "execute_result"
    }
   ],
   "source": [
    "np.random.permutation(X.shape[0])"
   ]
  },
  {
   "cell_type": "code",
   "execution_count": 41,
   "id": "b9ed4d98-68dd-469e-b87c-284de44a1293",
   "metadata": {},
   "outputs": [
    {
     "data": {
      "image/png": "[encoded data removed]",
      "text/plain": [
       "<Figure size 432x288 with 1 Axes>"
      ]
     },
     "metadata": {
      "needs_background": "light"
     },
     "output_type": "display_data"
    }
   ],
   "source": [
    "# プロットして確認\n",
    "x1 = np.linspace(-2, 2, 100)\n",
    "x2 = -(theta[0] + theta[1] * x1 + theta[3] * x1 ** 2) / theta[2]\n",
    "plt.plot(train_z[train_y == 1, 0], train_z[train_y == 1, 1], 'o')\n",
    "plt.plot(train_z[train_y == 0, 0], train_z[train_y == 0, 1], 'x')\n",
    "plt.plot(x1, x2, linestyle='dashed')\n",
    "plt.show()"
   ]
  },
  {
   "cell_type": "code",
   "execution_count": null,
   "id": "4e5c5d55-eb0e-49d7-8fc4-758b527e5128",
   "metadata": {},
   "outputs": [],
   "source": []
  }
 ],
 "metadata": {
  "kernelspec": {
   "display_name": "Python 3",
   "language": "python",
   "name": "python3"
  },
  "language_info": {
   "codemirror_mode": {
    "name": "ipython",
    "version": 3
   },
   "file_extension": ".py",
   "mimetype": "text/x-python",
   "name": "python",
   "nbconvert_exporter": "python",
   "pygments_lexer": "ipython3",
   "version": "3.8.8"
  }
 },
 "nbformat": 4,
 "nbformat_minor": 5
}
