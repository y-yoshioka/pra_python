{
 "cells": [
  {
   "cell_type": "code",
   "execution_count": 1,
   "id": "c899daba-7ff6-4392-8b76-aa215cc605e1",
   "metadata": {},
   "outputs": [],
   "source": [
    "import numpy as np\n",
    "import matplotlib.pyplot as plt"
   ]
  },
  {
   "cell_type": "code",
   "execution_count": 2,
   "id": "afcc1592-f584-4fd1-9a30-4745c870ba91",
   "metadata": {},
   "outputs": [],
   "source": [
    "# 学習データを読み込む\n",
    "train = np.loadtxt('images1.csv', delimiter=',', skiprows=1)\n",
    "train_x = train[:,0:2]\n",
    "train_y = train[:,2]"
   ]
  },
  {
   "cell_type": "code",
   "execution_count": 3,
   "id": "6ed01288-2cfb-4c9c-b9f5-3530e8f36868",
   "metadata": {},
   "outputs": [
    {
     "data": {
      "text/plain": [
       "array([0.78256253, 0.27954231])"
      ]
     },
     "execution_count": 3,
     "metadata": {},
     "output_type": "execute_result"
    }
   ],
   "source": [
    "# 重みの初期化\n",
    "w = np.random.rand(2)\n",
    "w"
   ]
  },
  {
   "cell_type": "code",
   "execution_count": 4,
   "id": "98c1a9fc-12b3-46da-9248-e790466b0341",
   "metadata": {},
   "outputs": [],
   "source": [
    "# 識別関数\n",
    "def f(x):\n",
    "    if np.dot(w, x) >= 0:\n",
    "        return 1\n",
    "    else:\n",
    "        return -1"
   ]
  },
  {
   "cell_type": "code",
   "execution_count": 5,
   "id": "67a84e1e-c489-4bbe-8346-e41adeaa0d9c",
   "metadata": {},
   "outputs": [],
   "source": [
    "# プロットして確認\n",
    "def plot():\n",
    "    x1 = np.arange(0, 500)\n",
    "    plt.plot(train_x[train_y ==  1, 0], train_x[train_y ==  1, 1], 'o')\n",
    "    plt.plot(train_x[train_y == -1, 0], train_x[train_y == -1, 1], 'x')\n",
    "    plt.plot(x1, -w[0] / w[1] * x1, linestyle='dashed')\n",
    "    plt.show()"
   ]
  },
  {
   "cell_type": "code",
   "execution_count": 6,
   "id": "f64ad87c-aca4-4795-a33c-a79c36754619",
   "metadata": {},
   "outputs": [
    {
     "name": "stdout",
     "output_type": "stream",
     "text": [
      "1回目: w = [-152.21743747 -431.72045769]\n",
      "2回目: w = [321.78256253 -47.72045769]\n",
      "3回目: w = [  88.78256253 -477.72045769]\n",
      "4回目: w = [ 484.78256253 -156.72045769]\n",
      "5回目: w = [  85.78256253 -589.72045769]\n",
      "6回目: w = [ 488.78256253 -289.72045769]\n",
      "7回目: w = [ 109.78256253 -705.72045769]\n",
      "8回目: w = [ 372.78256253 -593.72045769]\n",
      "9回目: w = [ 846.78256253 -209.72045769]\n",
      "10回目: w = [ 613.78256253 -639.72045769]\n"
     ]
    }
   ],
   "source": [
    "# 繰り返し回数\n",
    "epoch = 10\n",
    "\n",
    "# 更新回数\n",
    "count = 0\n",
    "\n",
    "# 重みを学習する\n",
    "for _ in range(epoch):\n",
    "    for x, y in zip(train_x, train_y):\n",
    "        if f(x) != y:\n",
    "            w = w + y * x\n",
    "\n",
    "            # ログの出力\n",
    "            count += 1\n",
    "            print('{}回目: w = {}'.format(count, w))"
   ]
  },
  {
   "cell_type": "code",
   "execution_count": 7,
   "id": "49ddd72a-8149-4d9e-bce7-c5ed87e8f8fb",
   "metadata": {},
   "outputs": [
    {
     "data": {
      "image/png": "[encoded data removed]",
      "text/plain": [
       "<Figure size 432x288 with 1 Axes>"
      ]
     },
     "metadata": {
      "needs_background": "light"
     },
     "output_type": "display_data"
    }
   ],
   "source": [
    "plot()"
   ]
  },
  {
   "cell_type": "code",
   "execution_count": null,
   "id": "c679ff95-f1c5-4467-84dc-8708537acc9e",
   "metadata": {},
   "outputs": [],
   "source": []
  }
 ],
 "metadata": {
  "kernelspec": {
   "display_name": "Python 3",
   "language": "python",
   "name": "python3"
  },
  "language_info": {
   "codemirror_mode": {
    "name": "ipython",
    "version": 3
   },
   "file_extension": ".py",
   "mimetype": "text/x-python",
   "name": "python",
   "nbconvert_exporter": "python",
   "pygments_lexer": "ipython3",
   "version": "3.8.8"
  }
 },
 "nbformat": 4,
 "nbformat_minor": 5
}
