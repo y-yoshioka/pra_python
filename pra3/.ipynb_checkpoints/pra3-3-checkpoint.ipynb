{
 "cells": [
  {
   "cell_type": "code",
   "execution_count": 1,
   "id": "b98c7e0e-420a-4e1a-8dc7-cd9493e26bb5",
   "metadata": {},
   "outputs": [],
   "source": [
    "import numpy as np\n",
    "import matplotlib.pyplot as plt"
   ]
  },
  {
   "cell_type": "code",
   "execution_count": 2,
   "id": "595becb7-d5f5-4e53-b726-f2a46c3d493b",
   "metadata": {},
   "outputs": [],
   "source": [
    "# 学習データを読み込む\n",
    "train = np.loadtxt('images2.csv', delimiter=',', skiprows=1)\n",
    "train_x = train[:,0:2]\n",
    "train_y = train[:,2]"
   ]
  },
  {
   "cell_type": "code",
   "execution_count": 3,
   "id": "f6309f5c-9d54-4fa9-a56d-ac75cc550773",
   "metadata": {},
   "outputs": [],
   "source": [
    "# パラメータを初期化\n",
    "theta = np.random.rand(3)"
   ]
  },
  {
   "cell_type": "code",
   "execution_count": 4,
   "id": "87b0142e-3fad-40e0-8546-51fdb974e338",
   "metadata": {},
   "outputs": [],
   "source": [
    "# 標準化\n",
    "mu = train_x.mean(axis=0)\n",
    "sigma = train_x.std(axis=0)"
   ]
  },
  {
   "cell_type": "code",
   "execution_count": 10,
   "id": "407f122c-de46-4994-8594-b3931c2857b4",
   "metadata": {},
   "outputs": [],
   "source": [
    "def standardize(x):\n",
    "    return (x - mu) / sigma"
   ]
  },
  {
   "cell_type": "code",
   "execution_count": 11,
   "id": "102e5e4c-b009-46ea-8a87-7768b3c3d646",
   "metadata": {},
   "outputs": [],
   "source": [
    "train_z = standardize(train_x)"
   ]
  },
  {
   "cell_type": "code",
   "execution_count": 12,
   "id": "84ff7810-7262-48aa-a87d-0ff55a91f6f0",
   "metadata": {},
   "outputs": [],
   "source": [
    "# x0を加える\n",
    "def to_matrix(x):\n",
    "    x0 = np.ones([x.shape[0], 1])\n",
    "    return np.hstack([x0, x])"
   ]
  },
  {
   "cell_type": "code",
   "execution_count": 16,
   "id": "62176b48-0cbd-4198-89f4-2669d1c2f2c6",
   "metadata": {},
   "outputs": [],
   "source": [
    "X = to_matrix(train_z)"
   ]
  },
  {
   "cell_type": "code",
   "execution_count": 17,
   "id": "ee714aeb-fd65-4823-8f9b-46cbf993b0d4",
   "metadata": {},
   "outputs": [],
   "source": [
    "# シグモイド関数\n",
    "def f(x):\n",
    "    return 1 / (1 + np.exp(-np.dot(x, theta)))"
   ]
  },
  {
   "cell_type": "code",
   "execution_count": null,
   "id": "c0eb5cec-bae2-44ae-acb1-c7aff8abd62d",
   "metadata": {},
   "outputs": [],
   "source": []
  },
  {
   "cell_type": "code",
   "execution_count": 24,
   "id": "05d5fec4-f870-4711-8c1a-de0ae0edfaf9",
   "metadata": {},
   "outputs": [
    {
     "name": "stdout",
     "output_type": "stream",
     "text": [
      "500回目: theta = [-0.32332592  4.6946555  -3.52443172]\n",
      "1000回目: theta = [-0.34336629  4.84771969 -3.65997601]\n",
      "1500回目: theta = [-0.36150895  4.99114536 -3.7868911 ]\n",
      "2000回目: theta = [-0.3780702   5.12614656 -3.90625659]\n",
      "2500回目: theta = [-0.3932974   5.25371387 -4.01895445]\n",
      "3000回目: theta = [-0.40738683  5.37466717 -4.12571576]\n",
      "3500回目: theta = [-0.42049629  5.48969354 -4.2271541 ]\n",
      "4000回目: theta = [-0.43275415  5.599375   -4.32379008]\n",
      "4500回目: theta = [-0.444266    5.70420932 -4.41606963]\n",
      "5000回目: theta = [-0.45511952  5.80462583 -4.50437794]\n"
     ]
    }
   ],
   "source": [
    "# 学習率\n",
    "ETA = 1e-3\n",
    "\n",
    "# 繰り返し回数\n",
    "epoch = 5000\n",
    "\n",
    "# 更新回数\n",
    "count = 0\n",
    "\n",
    "# 学習を繰り返す\n",
    "for _ in range(epoch):\n",
    "    theta = theta - ETA * np.dot(f(X) - train_y, X)\n",
    "\n",
    "    # ログの出力\n",
    "    count += 1\n",
    "    if count % 500 == 0:\n",
    "        print('{}回目: theta = {}'.format(count, theta))"
   ]
  },
  {
   "cell_type": "code",
   "execution_count": 25,
   "id": "296760f7-e183-4b46-ab8a-4d8d03ca07ff",
   "metadata": {},
   "outputs": [
    {
     "data": {
      "image/png": "[encoded data removed]",
      "text/plain": [
       "<Figure size 432x288 with 1 Axes>"
      ]
     },
     "metadata": {
      "needs_background": "light"
     },
     "output_type": "display_data"
    }
   ],
   "source": [
    "# プロットして確認\n",
    "x0 = np.linspace(-2, 2, 100)\n",
    "plt.plot(train_z[train_y == 1, 0], train_z[train_y == 1, 1], 'o')\n",
    "plt.plot(train_z[train_y == 0, 0], train_z[train_y == 0, 1], 'x')\n",
    "plt.plot(x0, -(theta[0] + theta[1] * x0) / theta[2], linestyle='dashed')\n",
    "plt.show()"
   ]
  },
  {
   "cell_type": "code",
   "execution_count": 20,
   "id": "08cb0232-5811-4241-91fa-2f3793fdfa37",
   "metadata": {},
   "outputs": [],
   "source": [
    "# 分類関数\n",
    "def classify(x):\n",
    "    return (f(x) >= 0.5).astype(np.int)"
   ]
  },
  {
   "cell_type": "code",
   "execution_count": 21,
   "id": "e8a95b5a-4aac-4f8b-9dbd-86af47bff937",
   "metadata": {},
   "outputs": [
    {
     "data": {
      "text/plain": [
       "array([[-0.68030239, -1.70890726],\n",
       "       [-1.34271952, -0.86102472]])"
      ]
     },
     "execution_count": 21,
     "metadata": {},
     "output_type": "execute_result"
    }
   ],
   "source": [
    "standardize([[200,100],[100,200]])"
   ]
  },
  {
   "cell_type": "code",
   "execution_count": 32,
   "id": "9f30d9c5-e063-4046-99ee-5e389d81d92b",
   "metadata": {},
   "outputs": [
    {
     "data": {
      "text/plain": [
       "array([0.99999999, 0.55415596])"
      ]
     },
     "execution_count": 32,
     "metadata": {},
     "output_type": "execute_result"
    }
   ],
   "source": [
    "f(to_matrix(standardize([[701,200],[120,100]]))) #横長である確率"
   ]
  },
  {
   "cell_type": "code",
   "execution_count": null,
   "id": "ecdc2a26-9ace-4f1f-b359-ddf22198f393",
   "metadata": {},
   "outputs": [],
   "source": []
  }
 ],
 "metadata": {
  "kernelspec": {
   "display_name": "Python 3",
   "language": "python",
   "name": "python3"
  },
  "language_info": {
   "codemirror_mode": {
    "name": "ipython",
    "version": 3
   },
   "file_extension": ".py",
   "mimetype": "text/x-python",
   "name": "python",
   "nbconvert_exporter": "python",
   "pygments_lexer": "ipython3",
   "version": "3.8.8"
  }
 },
 "nbformat": 4,
 "nbformat_minor": 5
}
