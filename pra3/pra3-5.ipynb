{
 "cells": [
  {
   "cell_type": "code",
   "execution_count": 1,
   "id": "fcd71f58-e780-4c0d-a9fc-463a5b593f74",
   "metadata": {},
   "outputs": [],
   "source": [
    "import numpy as np\n",
    "import matplotlib.pyplot as plt"
   ]
  },
  {
   "cell_type": "code",
   "execution_count": 2,
   "id": "6a614e40-b2db-44d8-ac57-06fffaf33578",
   "metadata": {},
   "outputs": [],
   "source": [
    "# 真の関数\n",
    "def g(x):\n",
    "    return 0.1 * (x ** 3 + x ** 2 + x)"
   ]
  },
  {
   "cell_type": "code",
   "execution_count": 6,
   "id": "332ad42d-e6e5-48d6-9972-4bbfd4f01ad3",
   "metadata": {},
   "outputs": [],
   "source": [
    "# 真の関数にノイズを加えた学習データを適当な数だけ用意する\n",
    "train_x = np.linspace(-2,2,8)\n",
    "train_y = g(train_x) + np.random.randn(train_x.size) * 0.05"
   ]
  },
  {
   "cell_type": "code",
   "execution_count": 15,
   "id": "a1d11cb2-0aa6-4419-8906-f00ffa436b6b",
   "metadata": {},
   "outputs": [
    {
     "data": {
      "text/plain": [
       "array([-2.        , -1.42857143, -0.85714286, -0.28571429,  0.28571429,\n",
       "        0.85714286,  1.42857143,  2.        ])"
      ]
     },
     "execution_count": 15,
     "metadata": {},
     "output_type": "execute_result"
    }
   ],
   "source": [
    "train_x"
   ]
  },
  {
   "cell_type": "code",
   "execution_count": 11,
   "id": "dbfcb54c-ec61-45a3-a7b7-27b80f03b858",
   "metadata": {},
   "outputs": [
    {
     "data": {
      "image/png": "[encoded data removed]",
      "text/plain": [
       "<Figure size 432x288 with 1 Axes>"
      ]
     },
     "metadata": {
      "needs_background": "light"
     },
     "output_type": "display_data"
    }
   ],
   "source": [
    "x = np.linspace(-2, 2, 100)\n",
    "plt.plot(train_x, train_y, 'o')\n",
    "plt.plot(x, g(x), linestyle='dashed')\n",
    "plt.ylim(-1, 2)\n",
    "plt.show()"
   ]
  },
  {
   "cell_type": "code",
   "execution_count": 8,
   "id": "8c33cbc3-8ea6-4e6b-9da1-a7f78c493071",
   "metadata": {},
   "outputs": [],
   "source": [
    "# 標準化\n",
    "mu = train_x.mean()\n",
    "sigma = train_x.std()\n",
    "def standardize(x):\n",
    "    return (x - mu) / sigma"
   ]
  },
  {
   "cell_type": "code",
   "execution_count": 9,
   "id": "2226f0e4-a78f-403e-b93d-9867fe5d40df",
   "metadata": {},
   "outputs": [],
   "source": [
    "train_z = standardize(train_x)"
   ]
  },
  {
   "cell_type": "code",
   "execution_count": 13,
   "id": "58d43360-1b32-4864-9290-1b9cd73598f4",
   "metadata": {},
   "outputs": [],
   "source": [
    "#10次の多項式\n",
    "# 学習データの行列を作る\n",
    "def to_matrix(x):\n",
    "    return np.vstack([\n",
    "        np.ones(x.size),\n",
    "        x,\n",
    "        x ** 2,\n",
    "        x ** 3,\n",
    "        x ** 4,\n",
    "        x ** 5,\n",
    "        x ** 6,\n",
    "        x ** 7,\n",
    "        x ** 8,\n",
    "        x ** 9,\n",
    "        x ** 10\n",
    "    ]).T"
   ]
  },
  {
   "cell_type": "code",
   "execution_count": 14,
   "id": "bf94cdca-5b83-405e-be01-4af6082128ff",
   "metadata": {},
   "outputs": [],
   "source": [
    "X = to_matrix(train_z)"
   ]
  },
  {
   "cell_type": "code",
   "execution_count": 16,
   "id": "6abd7465-e559-442f-a380-28bf5599d8ae",
   "metadata": {},
   "outputs": [],
   "source": [
    "# パラメータの初期化\n",
    "theta = np.random.randn(X.shape[1])"
   ]
  },
  {
   "cell_type": "code",
   "execution_count": 19,
   "id": "458e37cc-1fb1-4ffc-ad76-8742a9b8a3c0",
   "metadata": {},
   "outputs": [],
   "source": [
    "# 予測関数\n",
    "def f(x):\n",
    "    return np.dot(x, theta)"
   ]
  },
  {
   "cell_type": "code",
   "execution_count": 20,
   "id": "bd5cf065-8c8f-4898-ad77-6ef9b82dfa0f",
   "metadata": {},
   "outputs": [],
   "source": [
    "# 目的関数\n",
    "def E(x, y):\n",
    "    return 0.5 * np.sum((y - f(x)) ** 2)"
   ]
  },
  {
   "cell_type": "code",
   "execution_count": 21,
   "id": "c77f6f7f-d2a9-4a4b-b458-37818086fcf8",
   "metadata": {},
   "outputs": [],
   "source": [
    "# 学習率\n",
    "ETA = 1e-4\n",
    "\n",
    "# 誤差\n",
    "diff = 1\n",
    "\n",
    "# 正則化を適用せずに学習を繰り返す\n",
    "error = E(X, train_y)\n",
    "while diff > 1e-6:\n",
    "    theta = theta - ETA * (np.dot(f(X) - train_y, X))\n",
    "\n",
    "    current_error = E(X, train_y)\n",
    "    diff = error - current_error\n",
    "    error = current_error"
   ]
  },
  {
   "cell_type": "code",
   "execution_count": 22,
   "id": "6e9ffb0f-c466-421f-a5cc-e25763f44d6e",
   "metadata": {},
   "outputs": [
    {
     "data": {
      "image/png": "[encoded data removed]",
      "text/plain": [
       "<Figure size 432x288 with 1 Axes>"
      ]
     },
     "metadata": {
      "needs_background": "light"
     },
     "output_type": "display_data"
    }
   ],
   "source": [
    "# 結果をプロット\n",
    "z = standardize(x)\n",
    "plt.plot(train_z, train_y, 'o')\n",
    "plt.plot(z, f(to_matrix(z)))\n",
    "plt.show()"
   ]
  },
  {
   "cell_type": "code",
   "execution_count": 23,
   "id": "99e8a664-8950-493b-a411-30108a7e96aa",
   "metadata": {},
   "outputs": [],
   "source": [
    "theta1 = theta"
   ]
  },
  {
   "cell_type": "code",
   "execution_count": 24,
   "id": "4c89b35d-d257-4225-9711-6babbb071c36",
   "metadata": {},
   "outputs": [],
   "source": [
    "# 正則化定数\n",
    "LAMBDA = 0.5\n",
    "\n",
    "# 正則化を適用して学習を繰り返す\n",
    "theta = np.random.randn(X.shape[1])\n",
    "diff = 1\n",
    "error = E(X, train_y)\n",
    "while diff > 1e-6:\n",
    "    reg_term = LAMBDA * np.hstack([0, theta[1:]])\n",
    "    theta = theta - ETA * (np.dot(f(X) - train_y, X) + reg_term)\n",
    "\n",
    "    current_error = E(X, train_y)\n",
    "    diff = error - current_error\n",
    "    error = current_error\n",
    "\n",
    "theta2 = theta"
   ]
  },
  {
   "cell_type": "code",
   "execution_count": 26,
   "id": "160506e3-ad3e-470a-af9f-eae7a69de2f4",
   "metadata": {},
   "outputs": [
    {
     "data": {
      "image/png": "[encoded data removed]",
      "text/plain": [
       "<Figure size 432x288 with 1 Axes>"
      ]
     },
     "metadata": {
      "needs_background": "light"
     },
     "output_type": "display_data"
    }
   ],
   "source": [
    "# 結果をプロット\n",
    "plt.plot(train_z, train_y, 'o')\n",
    "plt.plot(z, f(to_matrix(z)))\n",
    "plt.show()"
   ]
  },
  {
   "cell_type": "code",
   "execution_count": 27,
   "id": "258a29a5-2950-4faa-88c4-26bda77efffb",
   "metadata": {},
   "outputs": [
    {
     "data": {
      "image/png": "[encoded data removed]",
      "text/plain": [
       "<Figure size 432x288 with 1 Axes>"
      ]
     },
     "metadata": {
      "needs_background": "light"
     },
     "output_type": "display_data"
    }
   ],
   "source": [
    "# プロットして確認\n",
    "plt.plot(train_z, train_y, 'o')\n",
    "z = standardize(np.linspace(-2, 2, 100))\n",
    "theta = theta1 # 正則化なし\n",
    "plt.plot(z, f(to_matrix(z)), linestyle='dashed')\n",
    "theta = theta2 # 正則化あり\n",
    "plt.plot(z, f(to_matrix(z)))\n",
    "plt.show()"
   ]
  },
  {
   "cell_type": "code",
   "execution_count": null,
   "id": "8e66ae55-8fab-4acb-ba3c-cece4db0bf77",
   "metadata": {},
   "outputs": [],
   "source": []
  }
 ],
 "metadata": {
  "kernelspec": {
   "display_name": "Python 3",
   "language": "python",
   "name": "python3"
  },
  "language_info": {
   "codemirror_mode": {
    "name": "ipython",
    "version": 3
   },
   "file_extension": ".py",
   "mimetype": "text/x-python",
   "name": "python",
   "nbconvert_exporter": "python",
   "pygments_lexer": "ipython3",
   "version": "3.8.8"
  }
 },
 "nbformat": 4,
 "nbformat_minor": 5
}
