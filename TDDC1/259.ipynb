{
 "cells": [
  {
   "cell_type": "code",
   "execution_count": 1,
   "id": "33d46f84-617f-4c3c-b881-c4c076d18316",
   "metadata": {},
   "outputs": [
    {
     "data": {
      "text/plain": [
       "'%.3f'"
      ]
     },
     "execution_count": 1,
     "metadata": {},
     "output_type": "execute_result"
    }
   ],
   "source": [
    "import numpy as np\n",
    "import numpy.random as random\n",
    "import scipy as sp\n",
    "import pandas as pd\n",
    "from pandas import Series, DataFrame\n",
    "\n",
    "import matplotlib.pyplot as plt\n",
    "import matplotlib as mpl\n",
    "import seaborn as sns\n",
    "%matplotlib inline\n",
    "\n",
    "import sklearn\n",
    "\n",
    "%precision 3"
   ]
  },
  {
   "cell_type": "code",
   "execution_count": 3,
   "id": "dcb1a7cf-ecf1-4105-a40a-fde0cb268d31",
   "metadata": {},
   "outputs": [
    {
     "data": {
      "text/html": [
       "<div>\n",
       "<style scoped>\n",
       "    .dataframe tbody tr th:only-of-type {\n",
       "        vertical-align: middle;\n",
       "    }\n",
       "\n",
       "    .dataframe tbody tr th {\n",
       "        vertical-align: top;\n",
       "    }\n",
       "\n",
       "    .dataframe thead th {\n",
       "        text-align: right;\n",
       "    }\n",
       "</style>\n",
       "<table border=\"1\" class=\"dataframe\">\n",
       "  <thead>\n",
       "    <tr style=\"text-align: right;\">\n",
       "      <th></th>\n",
       "      <th>InvoiceNo</th>\n",
       "      <th>StockCode</th>\n",
       "      <th>Description</th>\n",
       "      <th>Quantity</th>\n",
       "      <th>InvoiceDate</th>\n",
       "      <th>UnitPrice</th>\n",
       "      <th>CustomerID</th>\n",
       "      <th>Country</th>\n",
       "    </tr>\n",
       "  </thead>\n",
       "  <tbody>\n",
       "    <tr>\n",
       "      <th>0</th>\n",
       "      <td>536365</td>\n",
       "      <td>85123A</td>\n",
       "      <td>WHITE HANGING HEART T-LIGHT HOLDER</td>\n",
       "      <td>6</td>\n",
       "      <td>2010-12-01 08:26:00</td>\n",
       "      <td>2.55</td>\n",
       "      <td>17850.0</td>\n",
       "      <td>United Kingdom</td>\n",
       "    </tr>\n",
       "    <tr>\n",
       "      <th>1</th>\n",
       "      <td>536365</td>\n",
       "      <td>71053</td>\n",
       "      <td>WHITE METAL LANTERN</td>\n",
       "      <td>6</td>\n",
       "      <td>2010-12-01 08:26:00</td>\n",
       "      <td>3.39</td>\n",
       "      <td>17850.0</td>\n",
       "      <td>United Kingdom</td>\n",
       "    </tr>\n",
       "    <tr>\n",
       "      <th>2</th>\n",
       "      <td>536365</td>\n",
       "      <td>84406B</td>\n",
       "      <td>CREAM CUPID HEARTS COAT HANGER</td>\n",
       "      <td>8</td>\n",
       "      <td>2010-12-01 08:26:00</td>\n",
       "      <td>2.75</td>\n",
       "      <td>17850.0</td>\n",
       "      <td>United Kingdom</td>\n",
       "    </tr>\n",
       "    <tr>\n",
       "      <th>3</th>\n",
       "      <td>536365</td>\n",
       "      <td>84029G</td>\n",
       "      <td>KNITTED UNION FLAG HOT WATER BOTTLE</td>\n",
       "      <td>6</td>\n",
       "      <td>2010-12-01 08:26:00</td>\n",
       "      <td>3.39</td>\n",
       "      <td>17850.0</td>\n",
       "      <td>United Kingdom</td>\n",
       "    </tr>\n",
       "    <tr>\n",
       "      <th>4</th>\n",
       "      <td>536365</td>\n",
       "      <td>84029E</td>\n",
       "      <td>RED WOOLLY HOTTIE WHITE HEART.</td>\n",
       "      <td>6</td>\n",
       "      <td>2010-12-01 08:26:00</td>\n",
       "      <td>3.39</td>\n",
       "      <td>17850.0</td>\n",
       "      <td>United Kingdom</td>\n",
       "    </tr>\n",
       "  </tbody>\n",
       "</table>\n",
       "</div>"
      ],
      "text/plain": [
       "  InvoiceNo StockCode                          Description  Quantity  \\\n",
       "0    536365    85123A   WHITE HANGING HEART T-LIGHT HOLDER         6   \n",
       "1    536365     71053                  WHITE METAL LANTERN         6   \n",
       "2    536365    84406B       CREAM CUPID HEARTS COAT HANGER         8   \n",
       "3    536365    84029G  KNITTED UNION FLAG HOT WATER BOTTLE         6   \n",
       "4    536365    84029E       RED WOOLLY HOTTIE WHITE HEART.         6   \n",
       "\n",
       "          InvoiceDate  UnitPrice  CustomerID         Country  \n",
       "0 2010-12-01 08:26:00       2.55     17850.0  United Kingdom  \n",
       "1 2010-12-01 08:26:00       3.39     17850.0  United Kingdom  \n",
       "2 2010-12-01 08:26:00       2.75     17850.0  United Kingdom  \n",
       "3 2010-12-01 08:26:00       3.39     17850.0  United Kingdom  \n",
       "4 2010-12-01 08:26:00       3.39     17850.0  United Kingdom  "
      ]
     },
     "execution_count": 3,
     "metadata": {},
     "output_type": "execute_result"
    }
   ],
   "source": [
    "trans = pd.read_excel('Online Retail.xlsx', sheet_name='Online Retail')\n",
    "trans.head()"
   ]
  },
  {
   "cell_type": "code",
   "execution_count": 6,
   "id": "9958375c-8333-4e53-950a-ab9fc2c59b75",
   "metadata": {},
   "outputs": [
    {
     "data": {
      "text/plain": [
       "cancel_flg\n",
       "5    532618\n",
       "A         3\n",
       "C      9288\n",
       "dtype: int64"
      ]
     },
     "execution_count": 6,
     "metadata": {},
     "output_type": "execute_result"
    }
   ],
   "source": [
    "# InvoiceNoの先頭1文字をcancel_flgとして追加\n",
    "trans['cancel_flg'] = trans.InvoiceNo.map(lambda x:str(x)[0])\n",
    "\n",
    "# cancel_flgでグルーピングして集計\n",
    "trans.groupby('cancel_flg').size()"
   ]
  },
  {
   "cell_type": "code",
   "execution_count": 7,
   "id": "b98f7a08-f5b8-4836-b511-233c91a99a32",
   "metadata": {},
   "outputs": [],
   "source": [
    "trans = trans[(trans.cancel_flg =='5') & (trans.CustomerID.notnull())]"
   ]
  },
  {
   "cell_type": "code",
   "execution_count": 8,
   "id": "97591b29-e279-449f-a48f-8b628aff8010",
   "metadata": {},
   "outputs": [
    {
     "data": {
      "text/plain": [
       "85123A    2035\n",
       "22423     1724\n",
       "85099B    1618\n",
       "84879     1408\n",
       "47566     1397\n",
       "Name: StockCode, dtype: int64"
      ]
     },
     "execution_count": 8,
     "metadata": {},
     "output_type": "execute_result"
    }
   ],
   "source": [
    "# StockCodeごとに件数を数え、上位5件を表示\n",
    "trans['StockCode'].value_counts().head(5)"
   ]
  },
  {
   "cell_type": "code",
   "execution_count": 10,
   "id": "c351a863-5f43-48c5-aa58-b75eac20538d",
   "metadata": {},
   "outputs": [
    {
     "name": "stdout",
     "output_type": "stream",
     "text": [
      "1978\n",
      "1600\n",
      "252\n"
     ]
    }
   ],
   "source": [
    "# 全てのInvoiceNoをtrans_allとして抽出\n",
    "trans_all = set(trans.InvoiceNo)\n",
    "\n",
    "# 商品85123Aを購入したデータをtrans_aとする\n",
    "trans_a = set(trans[trans['StockCode'] == '85123A'].InvoiceNo)\n",
    "print(len(trans_a))\n",
    "\n",
    "# 商品85099Bを購入したデータをtrans_bとする\n",
    "trans_b = set(trans[trans['StockCode'] == '85099B'].InvoiceNo)\n",
    "print(len(trans_b))\n",
    "\n",
    "# 商品85123A及び、85099Bを購入したデータをtrans_abとする\n",
    "trans_ab = trans_a & trans_b\n",
    "print(len(trans_ab))"
   ]
  },
  {
   "cell_type": "code",
   "execution_count": 13,
   "id": "ab9d47a0-2668-45ee-ad8f-8374699fe38f",
   "metadata": {},
   "outputs": [
    {
     "name": "stdout",
     "output_type": "stream",
     "text": [
      "252\n",
      "0.013595166163141994\n"
     ]
    }
   ],
   "source": [
    "# 両商品を含むバスケットの数\n",
    "print(len(trans_ab))\n",
    "# 両商品を含むバスケットに占める割合\n",
    "print(len(trans_ab)/len(trans_all))"
   ]
  },
  {
   "cell_type": "code",
   "execution_count": 15,
   "id": "48ef946b-b1d3-4498-a8d1-aff8448b0b8d",
   "metadata": {},
   "outputs": [
    {
     "name": "stdout",
     "output_type": "stream",
     "text": [
      "1978\n"
     ]
    },
    {
     "data": {
      "text/plain": [
       "0.107"
      ]
     },
     "execution_count": 15,
     "metadata": {},
     "output_type": "execute_result"
    }
   ],
   "source": [
    "# 商品85123Aのバスケットの数\n",
    "print(len(trans_a))\n",
    "# 商品85123Aを含むバスケット全体に占める割合\n",
    "len(trans_a)/len(trans_all)"
   ]
  },
  {
   "cell_type": "code",
   "execution_count": 18,
   "id": "ad7dbd19-15bc-4acf-949c-c84183180102",
   "metadata": {},
   "outputs": [
    {
     "name": "stdout",
     "output_type": "stream",
     "text": [
      "0.12740141557128412\n",
      "0.1575\n"
     ]
    }
   ],
   "source": [
    "# 確信度 商品Aを購入するうちに商品ABを購入する割合\n",
    "print(len(trans_ab)/len(trans_a))\n",
    "# 確信度 商品Bから見た場合\n",
    "print(len(trans_ab)/len(trans_b))"
   ]
  },
  {
   "cell_type": "code",
   "execution_count": 21,
   "id": "8fd0bc48-66fa-4983-be02-4c08644528fd",
   "metadata": {},
   "outputs": [
    {
     "name": "stdout",
     "output_type": "stream",
     "text": [
      "1.4759453993933265\n"
     ]
    }
   ],
   "source": [
    "# 全体のバスケットに占める商品Bの高倍率を計算\n",
    "support_b = len(trans_b) / len(trans_all)\n",
    "\n",
    "# 商品Aを購買したときの商品Bの購買率を計算\n",
    "confidence = len(trans_ab) / len (trans_a)\n",
    "\n",
    "# リフト値を計算　（全体から商品Bを買った場合と商品Aを購入した時にBも購入する割合を比べ、商品Aを購入した時にBを購入する割合が高ければ,1より大きい併売しやすいと言える\n",
    "lift = confidence / support_b\n",
    "print(lift)"
   ]
  },
  {
   "cell_type": "code",
   "execution_count": null,
   "id": "891a074d-55ee-400c-8c92-50319e6b3543",
   "metadata": {},
   "outputs": [],
   "source": []
  }
 ],
 "metadata": {
  "kernelspec": {
   "display_name": "Python 3",
   "language": "python",
   "name": "python3"
  },
  "language_info": {
   "codemirror_mode": {
    "name": "ipython",
    "version": 3
   },
   "file_extension": ".py",
   "mimetype": "text/x-python",
   "name": "python",
   "nbconvert_exporter": "python",
   "pygments_lexer": "ipython3",
   "version": "3.8.8"
  }
 },
 "nbformat": 4,
 "nbformat_minor": 5
}
