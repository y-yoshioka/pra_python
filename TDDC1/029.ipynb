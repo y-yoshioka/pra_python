{
 "cells": [
  {
   "cell_type": "code",
   "execution_count": 1,
   "id": "3bd1f82a-fb4d-47b7-976d-d08a96d79f46",
   "metadata": {},
   "outputs": [],
   "source": [
    "class MyCalcClass:\n",
    "    def __init__(self, x, y):\n",
    "        self.x = x\n",
    "        self.y = y\n",
    "        \n",
    "    def calc_add(self, a, b):\n",
    "        return a + b\n",
    "    \n",
    "    def calc_add2(self):\n",
    "        return self.x + self.y\n",
    "    \n",
    "    def calc_multi(self, a, b):\n",
    "        return a * b\n",
    "    \n",
    "    def calc_print(self, a):\n",
    "        print('data:{0}:yの値{1}'.format(a, self.y))"
   ]
  },
  {
   "cell_type": "code",
   "execution_count": 2,
   "id": "feca41a9-c4b8-4ce3-b9b8-01f5918fde3c",
   "metadata": {},
   "outputs": [],
   "source": [
    "instance_1 = MyCalcClass(1,2)"
   ]
  },
  {
   "cell_type": "code",
   "execution_count": 3,
   "id": "1fd6950a-b2b7-4281-81e2-7536eac86e8a",
   "metadata": {},
   "outputs": [],
   "source": [
    "instance_2 = MyCalcClass(5,10)"
   ]
  },
  {
   "cell_type": "code",
   "execution_count": 5,
   "id": "e53ec356-00cf-45cf-aa08-1178276983a1",
   "metadata": {},
   "outputs": [
    {
     "data": {
      "text/plain": [
       "15"
      ]
     },
     "execution_count": 5,
     "metadata": {},
     "output_type": "execute_result"
    }
   ],
   "source": [
    "instance_2.calc_add2()"
   ]
  },
  {
   "cell_type": "code",
   "execution_count": 6,
   "id": "15ca3986-e97e-4eba-8052-711450f48c4f",
   "metadata": {},
   "outputs": [
    {
     "name": "stdout",
     "output_type": "stream",
     "text": [
      "data:4:yの値13\n"
     ]
    }
   ],
   "source": [
    "instance_3 = MyCalcClass(9,13)\n",
    "instance_3.calc_print(4)"
   ]
  },
  {
   "cell_type": "code",
   "execution_count": null,
   "id": "1a3858d3-6fc8-40a8-904d-3999e0e637bb",
   "metadata": {},
   "outputs": [],
   "source": []
  }
 ],
 "metadata": {
  "kernelspec": {
   "display_name": "Python 3",
   "language": "python",
   "name": "python3"
  },
  "language_info": {
   "codemirror_mode": {
    "name": "ipython",
    "version": 3
   },
   "file_extension": ".py",
   "mimetype": "text/x-python",
   "name": "python",
   "nbconvert_exporter": "python",
   "pygments_lexer": "ipython3",
   "version": "3.8.8"
  }
 },
 "nbformat": 4,
 "nbformat_minor": 5
}
