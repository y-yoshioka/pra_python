{
 "cells": [
  {
   "cell_type": "code",
   "execution_count": 7,
   "id": "dc7152dc-bd61-4f1f-9078-1c107eca3870",
   "metadata": {},
   "outputs": [],
   "source": [
    "data_list = range(0, 10)"
   ]
  },
  {
   "cell_type": "code",
   "execution_count": 8,
   "id": "066ef42b-534b-4fa2-a212-3e666b828abb",
   "metadata": {},
   "outputs": [
    {
     "name": "stdout",
     "output_type": "stream",
     "text": [
      "5は入ってます。\n"
     ]
    }
   ],
   "source": [
    "findvalue = 5\n",
    "\n",
    "if findvalue in data_list:\n",
    "    print('{0}は入ってます。'.format(findvalue))\n",
    "else:\n",
    "    print('{0}は入ってません。'.format(findvalue))"
   ]
  },
  {
   "cell_type": "code",
   "execution_count": 12,
   "id": "e1f0723e-6aac-47e8-a9de-561cb01715a8",
   "metadata": {},
   "outputs": [],
   "source": [
    "word = 'Data Science'\n",
    "list_words = list(word)"
   ]
  },
  {
   "cell_type": "code",
   "execution_count": 13,
   "id": "1b0ae1a7-4f2e-4611-beb1-cd5577e63e4a",
   "metadata": {},
   "outputs": [
    {
     "name": "stdout",
     "output_type": "stream",
     "text": [
      "D\n",
      "a\n",
      "t\n",
      "a\n",
      " \n",
      "S\n",
      "c\n",
      "i\n",
      "e\n",
      "n\n",
      "c\n",
      "e\n"
     ]
    }
   ],
   "source": [
    "for w in list_words:\n",
    "    print(w)"
   ]
  },
  {
   "cell_type": "code",
   "execution_count": 15,
   "id": "8fe510a1-44ae-48be-a7a0-ae7f3a01c2ba",
   "metadata": {},
   "outputs": [
    {
     "name": "stdout",
     "output_type": "stream",
     "text": [
      "1275\n"
     ]
    }
   ],
   "source": [
    "import numpy as np\n",
    "total = np.sum(range(51))\n",
    "print(total)"
   ]
  },
  {
   "cell_type": "code",
   "execution_count": null,
   "id": "7350372a-a05b-49e2-9ee7-436a68c2720d",
   "metadata": {},
   "outputs": [],
   "source": []
  }
 ],
 "metadata": {
  "kernelspec": {
   "display_name": "Python 3",
   "language": "python",
   "name": "python3"
  },
  "language_info": {
   "codemirror_mode": {
    "name": "ipython",
    "version": 3
   },
   "file_extension": ".py",
   "mimetype": "text/x-python",
   "name": "python",
   "nbconvert_exporter": "python",
   "pygments_lexer": "ipython3",
   "version": "3.8.8"
  }
 },
 "nbformat": 4,
 "nbformat_minor": 5
}
