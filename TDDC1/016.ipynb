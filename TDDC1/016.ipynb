{
 "cells": [
  {
   "cell_type": "code",
   "execution_count": 1,
   "id": "50daf119-2e9a-4d13-92ce-fd97e4cd2254",
   "metadata": {},
   "outputs": [],
   "source": [
    "datalist = [1,2,3,4,5]"
   ]
  },
  {
   "cell_type": "code",
   "execution_count": 2,
   "id": "8fc01ff7-3637-420f-a220-167364d80cff",
   "metadata": {},
   "outputs": [
    {
     "data": {
      "text/plain": [
       "[1, 2, 3, 4, 5, 1, 2, 3, 4, 5]"
      ]
     },
     "execution_count": 2,
     "metadata": {},
     "output_type": "execute_result"
    }
   ],
   "source": [
    "datalist = datalist *2\n",
    "datalist"
   ]
  },
  {
   "cell_type": "code",
   "execution_count": 3,
   "id": "203a6c69-2dbe-4faa-a420-0c5930db331c",
   "metadata": {},
   "outputs": [
    {
     "data": {
      "text/plain": [
       "[1, 2, 3, 4, 5, 1, 2, 3, 4, 5, 8]"
      ]
     },
     "execution_count": 3,
     "metadata": {},
     "output_type": "execute_result"
    }
   ],
   "source": [
    "datalist.append(8)\n",
    "datalist"
   ]
  },
  {
   "cell_type": "code",
   "execution_count": 4,
   "id": "ee5b97be-2655-4f74-9e5a-8a66c24523bf",
   "metadata": {},
   "outputs": [
    {
     "data": {
      "text/plain": [
       "[1, 2, 4, 5, 1, 2, 3, 4, 5, 8]"
      ]
     },
     "execution_count": 4,
     "metadata": {},
     "output_type": "execute_result"
    }
   ],
   "source": [
    "datalist.remove(3)\n",
    "datalist"
   ]
  },
  {
   "cell_type": "code",
   "execution_count": 5,
   "id": "629755ab-76f8-4182-b8bb-06f3040a9237",
   "metadata": {},
   "outputs": [
    {
     "data": {
      "text/plain": [
       "[2, 4, 5, 1, 2, 3, 4, 5, 8]"
      ]
     },
     "execution_count": 5,
     "metadata": {},
     "output_type": "execute_result"
    }
   ],
   "source": [
    "del datalist[0]\n",
    "datalist"
   ]
  },
  {
   "cell_type": "code",
   "execution_count": 7,
   "id": "9f3c50be-fb03-4d4d-8e91-a36b694ee1ea",
   "metadata": {},
   "outputs": [
    {
     "data": {
      "text/plain": [
       "{'apple': 100, 'banana': 100, 'orange': 300, 'mango': 400, 'melon': 500}"
      ]
     },
     "execution_count": 7,
     "metadata": {},
     "output_type": "execute_result"
    }
   ],
   "source": [
    "dic_data = {'apple' : 100,'banana' : 100 ,'orange' : 300, 'mango': 400, 'melon': 500}\n",
    "dic_data"
   ]
  },
  {
   "cell_type": "code",
   "execution_count": 9,
   "id": "e652b94a-3861-430e-8c07-61acf35983e6",
   "metadata": {},
   "outputs": [
    {
     "name": "stdout",
     "output_type": "stream",
     "text": [
      "500\n",
      "300\n"
     ]
    }
   ],
   "source": [
    "print(dic_data['melon'])\n",
    "print(dic_data['orange'])"
   ]
  },
  {
   "cell_type": "code",
   "execution_count": 12,
   "id": "d36838ae-aa6e-40bd-bc2a-1a7f5497c9f7",
   "metadata": {},
   "outputs": [
    {
     "name": "stdout",
     "output_type": "stream",
     "text": [
      "400\n"
     ]
    }
   ],
   "source": [
    "test = dic_data['apple'] + dic_data['orange']\n",
    "print(test)"
   ]
  },
  {
   "cell_type": "code",
   "execution_count": 13,
   "id": "c7becbc0-23ce-4eb7-b819-e19306be3c45",
   "metadata": {},
   "outputs": [
    {
     "data": {
      "text/plain": [
       "{'apple': 100,\n",
       " 'banana': 100,\n",
       " 'orange': 300,\n",
       " 'mango': 400,\n",
       " 'melon': 500,\n",
       " 'alpha': 230}"
      ]
     },
     "execution_count": 13,
     "metadata": {},
     "output_type": "execute_result"
    }
   ],
   "source": [
    "dic_data['alpha'] = 230\n",
    "dic_data"
   ]
  },
  {
   "cell_type": "code",
   "execution_count": null,
   "id": "106c91d8-88a5-4f5f-b920-8942b6317a51",
   "metadata": {},
   "outputs": [],
   "source": []
  }
 ],
 "metadata": {
  "kernelspec": {
   "display_name": "Python 3",
   "language": "python",
   "name": "python3"
  },
  "language_info": {
   "codemirror_mode": {
    "name": "ipython",
    "version": 3
   },
   "file_extension": ".py",
   "mimetype": "text/x-python",
   "name": "python",
   "nbconvert_exporter": "python",
   "pygments_lexer": "ipython3",
   "version": "3.8.8"
  }
 },
 "nbformat": 4,
 "nbformat_minor": 5
}
