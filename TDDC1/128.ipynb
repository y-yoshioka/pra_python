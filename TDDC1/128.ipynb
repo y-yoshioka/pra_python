{
 "cells": [
  {
   "cell_type": "code",
   "execution_count": 1,
   "id": "dff81fe8-b29f-4548-bb37-07a4d2cb0686",
   "metadata": {},
   "outputs": [],
   "source": [
    "import numpy as np\n",
    "import numpy.random as random\n",
    "import scipy as sp\n",
    "import matplotlib.pyplot as plt\n",
    "import matplotlib as mpl\n",
    "%matplotlib inline"
   ]
  },
  {
   "cell_type": "code",
   "execution_count": 3,
   "id": "271b8796-774c-4e6e-8dd3-55d9c6e32611",
   "metadata": {},
   "outputs": [
    {
     "data": {
      "text/plain": [
       "'%.3f'"
      ]
     },
     "execution_count": 3,
     "metadata": {},
     "output_type": "execute_result"
    }
   ],
   "source": [
    "%precision 3"
   ]
  },
  {
   "cell_type": "code",
   "execution_count": 8,
   "id": "35a95b36-4fb8-488f-b831-a1282bd9c78c",
   "metadata": {},
   "outputs": [
    {
     "name": "stdout",
     "output_type": "stream",
     "text": [
      "[False  True]\n",
      "[0 1 2 3 4 5 6 7 8 9]\n",
      "[0.    1.    1.414 1.732 2.    2.236 2.449 2.646 2.828 3.   ]\n"
     ]
    }
   ],
   "source": [
    "cond_data = np.array([True, True, False, False, True])\n",
    "print(np.unique(cond_data))\n",
    "# ユニバーサル関数\n",
    "sample_data = np.arange(10)\n",
    "print(sample_data)\n",
    "print(np.sqrt(sample_data)) #ルートX"
   ]
  },
  {
   "cell_type": "code",
   "execution_count": 7,
   "id": "574bc400-52b6-494e-9a7c-43bc450ed32e",
   "metadata": {},
   "outputs": [
    {
     "name": "stdout",
     "output_type": "stream",
     "text": [
      "[1.000e+00 2.718e+00 7.389e+00 2.009e+01 5.460e+01 1.484e+02 4.034e+02\n",
      " 1.097e+03 2.981e+03 8.103e+03]\n"
     ]
    }
   ],
   "source": [
    "# eのx乗\n",
    "print(np.exp(sample_data)) "
   ]
  },
  {
   "cell_type": "code",
   "execution_count": 15,
   "id": "642e54cc-4522-4812-b227-5754c0a92b73",
   "metadata": {},
   "outputs": [
    {
     "name": "stdout",
     "output_type": "stream",
     "text": [
      "[[0 1 2]\n",
      " [3 4 5]\n",
      " [6 7 8]]\n",
      "最小値 0\n",
      "最大値 8\n",
      "平均 4.0\n",
      "合計 36\n",
      "行の合計 [ 3 12 21]\n",
      "列の合計 [ 9 12 15]\n"
     ]
    }
   ],
   "source": [
    "sample_multi_array_data1 = np.arange(9).reshape(3,3)\n",
    "print(sample_multi_array_data1)\n",
    "\n",
    "print('最小値', sample_multi_array_data1.min())\n",
    "print('最大値', sample_multi_array_data1.max())\n",
    "print('平均', sample_multi_array_data1.mean())\n",
    "print('合計', sample_multi_array_data1.sum())\n",
    "\n",
    "print ('行の合計', sample_multi_array_data1.sum(axis=1))\n",
    "print ('列の合計', sample_multi_array_data1.sum(axis=0))"
   ]
  },
  {
   "cell_type": "code",
   "execution_count": 19,
   "id": "b0b7e5cc-14a7-4b3e-ba16-391551c197cf",
   "metadata": {},
   "outputs": [
    {
     "name": "stdout",
     "output_type": "stream",
     "text": [
      "Trueが少なくとも１つあるか True\n",
      "全てTrueかどうか False\n"
     ]
    }
   ],
   "source": [
    "print('Trueが少なくとも１つあるか', cond_data.any())\n",
    "print('全てTrueかどうか', cond_data.all())"
   ]
  },
  {
   "cell_type": "code",
   "execution_count": 20,
   "id": "c4b03e36-92c7-44ce-818e-d328c55cf50a",
   "metadata": {},
   "outputs": [
    {
     "name": "stdout",
     "output_type": "stream",
     "text": [
      "5より大きい数字がいくつあるか 3\n"
     ]
    }
   ],
   "source": [
    "print('5より大きい数字がいくつあるか', (sample_multi_array_data1 > 5).sum())"
   ]
  },
  {
   "cell_type": "code",
   "execution_count": 22,
   "id": "12f698e4-4f25-4c0f-aac2-1f2ff6a77a90",
   "metadata": {},
   "outputs": [
    {
     "name": "stdout",
     "output_type": "stream",
     "text": [
      "対角成分 [0 4 8]\n",
      "対角成分の和 12\n"
     ]
    }
   ],
   "source": [
    "print('対角成分', np.diag(sample_multi_array_data1))\n",
    "print('対角成分の和', np.trace(sample_multi_array_data1))"
   ]
  },
  {
   "cell_type": "code",
   "execution_count": 24,
   "id": "2aec5715-3db2-477e-92c5-c3e02b3cf825",
   "metadata": {},
   "outputs": [
    {
     "name": "stdout",
     "output_type": "stream",
     "text": [
      "[[ 0  1  2  3]\n",
      " [ 4  5  6  7]\n",
      " [ 8  9 10 11]\n",
      " [12 13 14 15]]\n"
     ]
    }
   ],
   "source": [
    "sample_multi_array_data2 = np.arange(16).reshape(4,4)\n",
    "print(sample_multi_array_data2)"
   ]
  },
  {
   "cell_type": "code",
   "execution_count": 25,
   "id": "7a3eec1c-d6e7-49a3-bf6c-85f1a19eee15",
   "metadata": {},
   "outputs": [
    {
     "name": "stdout",
     "output_type": "stream",
     "text": [
      "[[0.    1.    1.414 1.732]\n",
      " [2.    2.236 2.449 2.646]\n",
      " [2.828 3.    3.162 3.317]\n",
      " [3.464 3.606 3.742 3.873]]\n"
     ]
    }
   ],
   "source": [
    "print(np.sqrt(sample_multi_array_data2)) #ルート"
   ]
  },
  {
   "cell_type": "code",
   "execution_count": 27,
   "id": "b79cdc24-2340-4dc1-b86f-61d1315c8b7b",
   "metadata": {},
   "outputs": [
    {
     "name": "stdout",
     "output_type": "stream",
     "text": [
      "15\n",
      "0\n",
      "120\n",
      "7.5\n"
     ]
    }
   ],
   "source": [
    "print(sample_multi_array_data2.max())\n",
    "print(sample_multi_array_data2.min())\n",
    "print(sample_multi_array_data2.sum())\n",
    "print(sample_multi_array_data2.mean())"
   ]
  },
  {
   "cell_type": "code",
   "execution_count": 31,
   "id": "ce0b7983-bdb2-4ae7-8daa-93a9c17af5ec",
   "metadata": {},
   "outputs": [
    {
     "name": "stdout",
     "output_type": "stream",
     "text": [
      "30\n",
      "30\n"
     ]
    }
   ],
   "source": [
    "print(np.diag(sample_multi_array_data2).sum())\n",
    "print(np.trace(sample_multi_array_data2))"
   ]
  },
  {
   "cell_type": "code",
   "execution_count": null,
   "id": "71a64292-1d26-4d8b-9bb3-b29ded030780",
   "metadata": {},
   "outputs": [],
   "source": []
  }
 ],
 "metadata": {
  "kernelspec": {
   "display_name": "Python 3",
   "language": "python",
   "name": "python3"
  },
  "language_info": {
   "codemirror_mode": {
    "name": "ipython",
    "version": 3
   },
   "file_extension": ".py",
   "mimetype": "text/x-python",
   "name": "python",
   "nbconvert_exporter": "python",
   "pygments_lexer": "ipython3",
   "version": "3.8.8"
  }
 },
 "nbformat": 4,
 "nbformat_minor": 5
}
