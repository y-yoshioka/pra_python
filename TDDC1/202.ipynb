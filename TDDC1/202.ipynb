{
 "cells": [
  {
   "cell_type": "code",
   "execution_count": 1,
   "id": "0885d10e-9fdf-4738-a50f-f2caf9ff67ef",
   "metadata": {},
   "outputs": [
    {
     "data": {
      "text/plain": [
       "'%.3f'"
      ]
     },
     "execution_count": 1,
     "metadata": {},
     "output_type": "execute_result"
    }
   ],
   "source": [
    "import numpy as np\n",
    "import numpy.random as random\n",
    "import scipy as sp\n",
    "import pandas as pd\n",
    "from pandas import Series, DataFrame\n",
    "\n",
    "import matplotlib.pyplot as plt\n",
    "import matplotlib as mpl\n",
    "import seaborn as sns\n",
    "%matplotlib inline\n",
    "\n",
    "import sklearn\n",
    "\n",
    "%precision 3"
   ]
  },
  {
   "cell_type": "code",
   "execution_count": 2,
   "id": "82391ed1-66eb-4583-8504-368d41f4d4fe",
   "metadata": {},
   "outputs": [],
   "source": [
    "import requests, zipfile\n",
    "import io"
   ]
  },
  {
   "cell_type": "code",
   "execution_count": 3,
   "id": "1984f3db-6807-48fb-9c20-6b820ad96ef2",
   "metadata": {},
   "outputs": [],
   "source": [
    "# 自動車価格データを取得\n",
    "url = 'http://archive.ics.uci.edu/ml/machine-learning-databases/autos/imports-85.data'\n",
    "res = requests.get(url).content"
   ]
  },
  {
   "cell_type": "code",
   "execution_count": 21,
   "id": "e95da0ca-9f31-4193-b7d8-227b1ba9f3e3",
   "metadata": {},
   "outputs": [],
   "source": [
    "# 取得したデータをDataFrameで読み込み\n",
    "auto = pd.read_csv(io.StringIO(res.decode('utf-8')), header=None)"
   ]
  },
  {
   "cell_type": "code",
   "execution_count": 22,
   "id": "db0e2042-0b3f-4027-98d0-78590dcd1684",
   "metadata": {},
   "outputs": [],
   "source": [
    "auto.columns = ['symboling', 'normalized-losses', 'make', 'fuel-type', 'aspiration', 'num-of-doors',\n",
    "               'body-style', 'drive-wheels', 'engine-location', 'wheel-base', 'length', 'width', 'height',\n",
    "               'curb-weight', 'engine-type', 'num-of-cylinders', 'engine-size', 'fuel-system', 'bore', \n",
    "               'stroke', 'compression-ratio', 'horsepower', 'peak-rpm', 'city-mpg', 'highway-mpg', 'price'\n",
    "               ]"
   ]
  },
  {
   "cell_type": "code",
   "execution_count": 25,
   "id": "3c0db5e8-2dfd-4088-b4b9-cee0f09a5d4e",
   "metadata": {},
   "outputs": [
    {
     "name": "stdout",
     "output_type": "stream",
     "text": [
      "(205, 4)\n"
     ]
    },
    {
     "data": {
      "text/html": [
       "<div>\n",
       "<style scoped>\n",
       "    .dataframe tbody tr th:only-of-type {\n",
       "        vertical-align: middle;\n",
       "    }\n",
       "\n",
       "    .dataframe tbody tr th {\n",
       "        vertical-align: top;\n",
       "    }\n",
       "\n",
       "    .dataframe thead th {\n",
       "        text-align: right;\n",
       "    }\n",
       "</style>\n",
       "<table border=\"1\" class=\"dataframe\">\n",
       "  <thead>\n",
       "    <tr style=\"text-align: right;\">\n",
       "      <th></th>\n",
       "      <th>price</th>\n",
       "      <th>horsepower</th>\n",
       "      <th>width</th>\n",
       "      <th>height</th>\n",
       "    </tr>\n",
       "  </thead>\n",
       "  <tbody>\n",
       "    <tr>\n",
       "      <th>0</th>\n",
       "      <td>13495</td>\n",
       "      <td>111</td>\n",
       "      <td>64.1</td>\n",
       "      <td>48.8</td>\n",
       "    </tr>\n",
       "    <tr>\n",
       "      <th>1</th>\n",
       "      <td>16500</td>\n",
       "      <td>111</td>\n",
       "      <td>64.1</td>\n",
       "      <td>48.8</td>\n",
       "    </tr>\n",
       "    <tr>\n",
       "      <th>2</th>\n",
       "      <td>16500</td>\n",
       "      <td>154</td>\n",
       "      <td>65.5</td>\n",
       "      <td>52.4</td>\n",
       "    </tr>\n",
       "    <tr>\n",
       "      <th>3</th>\n",
       "      <td>13950</td>\n",
       "      <td>102</td>\n",
       "      <td>66.2</td>\n",
       "      <td>54.3</td>\n",
       "    </tr>\n",
       "    <tr>\n",
       "      <th>4</th>\n",
       "      <td>17450</td>\n",
       "      <td>115</td>\n",
       "      <td>66.4</td>\n",
       "      <td>54.3</td>\n",
       "    </tr>\n",
       "  </tbody>\n",
       "</table>\n",
       "</div>"
      ],
      "text/plain": [
       "   price horsepower  width  height\n",
       "0  13495        111   64.1    48.8\n",
       "1  16500        111   64.1    48.8\n",
       "2  16500        154   65.5    52.4\n",
       "3  13950        102   66.2    54.3\n",
       "4  17450        115   66.4    54.3"
      ]
     },
     "execution_count": 25,
     "metadata": {},
     "output_type": "execute_result"
    }
   ],
   "source": [
    "print(auto.shape)\n",
    "auto.head()"
   ]
  },
  {
   "cell_type": "code",
   "execution_count": 26,
   "id": "42a32234-d0d1-474c-9941-2ef5ad201ce1",
   "metadata": {},
   "outputs": [
    {
     "data": {
      "text/plain": [
       "price         4\n",
       "horsepower    2\n",
       "width         0\n",
       "height        0\n",
       "dtype: int64"
      ]
     },
     "execution_count": 26,
     "metadata": {},
     "output_type": "execute_result"
    }
   ],
   "source": [
    "# 不適切なデータ「？」のカウント\n",
    "auto = auto[['price', 'horsepower', 'width', 'height']]\n",
    "auto.isin(['?']).sum()"
   ]
  },
  {
   "cell_type": "code",
   "execution_count": 27,
   "id": "c983a040-af5f-4989-ae6a-ad27926b5cb3",
   "metadata": {},
   "outputs": [
    {
     "data": {
      "text/plain": [
       "(199, 4)"
      ]
     },
     "execution_count": 27,
     "metadata": {},
     "output_type": "execute_result"
    }
   ],
   "source": [
    "# ? をNaNに置換して、NaNがある行を削除\n",
    "auto = auto.replace('?', np.nan).dropna()\n",
    "auto.shape"
   ]
  },
  {
   "cell_type": "code",
   "execution_count": 28,
   "id": "67913131-e7fe-4d14-976c-21f3e3dbc5e8",
   "metadata": {},
   "outputs": [
    {
     "data": {
      "text/plain": [
       "price          object\n",
       "horsepower     object\n",
       "width         float64\n",
       "height        float64\n",
       "dtype: object"
      ]
     },
     "execution_count": 28,
     "metadata": {},
     "output_type": "execute_result"
    }
   ],
   "source": [
    "auto.dtypes"
   ]
  },
  {
   "cell_type": "code",
   "execution_count": 29,
   "id": "79469cb1-3308-48eb-9cf0-38d2e5acf22d",
   "metadata": {},
   "outputs": [
    {
     "data": {
      "text/plain": [
       "price           int64\n",
       "horsepower      int64\n",
       "width         float64\n",
       "height        float64\n",
       "dtype: object"
      ]
     },
     "execution_count": 29,
     "metadata": {},
     "output_type": "execute_result"
    }
   ],
   "source": [
    "auto = auto.assign(price=pd.to_numeric(auto.price))\n",
    "auto = auto.assign(horsepower=pd.to_numeric(auto.horsepower))\n",
    "auto.dtypes"
   ]
  },
  {
   "cell_type": "code",
   "execution_count": 30,
   "id": "9fe4815f-7c8d-466b-be05-083e00b180cd",
   "metadata": {},
   "outputs": [
    {
     "data": {
      "text/html": [
       "<div>\n",
       "<style scoped>\n",
       "    .dataframe tbody tr th:only-of-type {\n",
       "        vertical-align: middle;\n",
       "    }\n",
       "\n",
       "    .dataframe tbody tr th {\n",
       "        vertical-align: top;\n",
       "    }\n",
       "\n",
       "    .dataframe thead th {\n",
       "        text-align: right;\n",
       "    }\n",
       "</style>\n",
       "<table border=\"1\" class=\"dataframe\">\n",
       "  <thead>\n",
       "    <tr style=\"text-align: right;\">\n",
       "      <th></th>\n",
       "      <th>price</th>\n",
       "      <th>horsepower</th>\n",
       "      <th>width</th>\n",
       "      <th>height</th>\n",
       "    </tr>\n",
       "  </thead>\n",
       "  <tbody>\n",
       "    <tr>\n",
       "      <th>price</th>\n",
       "      <td>1.000000</td>\n",
       "      <td>0.810533</td>\n",
       "      <td>0.753871</td>\n",
       "      <td>0.134990</td>\n",
       "    </tr>\n",
       "    <tr>\n",
       "      <th>horsepower</th>\n",
       "      <td>0.810533</td>\n",
       "      <td>1.000000</td>\n",
       "      <td>0.615315</td>\n",
       "      <td>-0.087407</td>\n",
       "    </tr>\n",
       "    <tr>\n",
       "      <th>width</th>\n",
       "      <td>0.753871</td>\n",
       "      <td>0.615315</td>\n",
       "      <td>1.000000</td>\n",
       "      <td>0.309223</td>\n",
       "    </tr>\n",
       "    <tr>\n",
       "      <th>height</th>\n",
       "      <td>0.134990</td>\n",
       "      <td>-0.087407</td>\n",
       "      <td>0.309223</td>\n",
       "      <td>1.000000</td>\n",
       "    </tr>\n",
       "  </tbody>\n",
       "</table>\n",
       "</div>"
      ],
      "text/plain": [
       "               price  horsepower     width    height\n",
       "price       1.000000    0.810533  0.753871  0.134990\n",
       "horsepower  0.810533    1.000000  0.615315 -0.087407\n",
       "width       0.753871    0.615315  1.000000  0.309223\n",
       "height      0.134990   -0.087407  0.309223  1.000000"
      ]
     },
     "execution_count": 30,
     "metadata": {},
     "output_type": "execute_result"
    }
   ],
   "source": [
    "# 相関の確認\n",
    "auto.corr()"
   ]
  },
  {
   "cell_type": "code",
   "execution_count": 32,
   "id": "e99a2d62-8348-434a-8be5-8663172e99c1",
   "metadata": {},
   "outputs": [
    {
     "data": {
      "text/plain": [
       "LinearRegression()"
      ]
     },
     "execution_count": 32,
     "metadata": {},
     "output_type": "execute_result"
    }
   ],
   "source": [
    "from sklearn.model_selection import train_test_split\n",
    "from sklearn.linear_model import LinearRegression\n",
    "\n",
    "# X:説明変数 y:目的変数\n",
    "X = auto.drop('price', axis=1)\n",
    "y = auto['price']\n",
    "\n",
    "X_train, X_test, y_train, y_test = train_test_split(X,y, test_size=0.5, random_state=0)\n",
    "\n",
    "model = LinearRegression()\n",
    "model.fit(X_train, y_train)"
   ]
  },
  {
   "cell_type": "code",
   "execution_count": 35,
   "id": "999811fb-59bb-441d-b2e8-9df22c33dffc",
   "metadata": {},
   "outputs": [
    {
     "name": "stdout",
     "output_type": "stream",
     "text": [
      "0.7333575683901375\n",
      "0.7370688738125756\n"
     ]
    }
   ],
   "source": [
    "print(model.score(X_train, y_train))\n",
    "print(model.score(X_test, y_test))"
   ]
  },
  {
   "cell_type": "code",
   "execution_count": 37,
   "id": "e51bfc22-0878-4278-a832-17d95538ce78",
   "metadata": {},
   "outputs": [
    {
     "name": "stdout",
     "output_type": "stream",
     "text": [
      "\n",
      "回帰係数\n",
      "horsepower      81.651078\n",
      "width         1829.174506\n",
      "height         229.510077\n",
      "dtype: float64\n",
      "切片：-128409.046\n"
     ]
    }
   ],
   "source": [
    "print('\\n回帰係数\\n{}'.format(pd.Series(model.coef_, index=X.columns)))\n",
    "print('切片：{:.3f}'.format(model.intercept_))"
   ]
  },
  {
   "cell_type": "code",
   "execution_count": 39,
   "id": "b5dadd43-5403-467f-81f8-448b4c857237",
   "metadata": {},
   "outputs": [],
   "source": [
    "# 取得したデータをDataFrameで読み込み\n",
    "auto = pd.read_csv(io.StringIO(res.decode('utf-8')), header=None)"
   ]
  },
  {
   "cell_type": "code",
   "execution_count": 40,
   "id": "dba4b00e-a2d8-4eb6-9da9-5d43a5a47dbc",
   "metadata": {},
   "outputs": [],
   "source": [
    "auto.columns = ['symboling', 'normalized-losses', 'make', 'fuel-type', 'aspiration', 'num-of-doors',\n",
    "               'body-style', 'drive-wheels', 'engine-location', 'wheel-base', 'length', 'width', 'height',\n",
    "               'curb-weight', 'engine-type', 'num-of-cylinders', 'engine-size', 'fuel-system', 'bore', \n",
    "               'stroke', 'compression-ratio', 'horsepower', 'peak-rpm', 'city-mpg', 'highway-mpg', 'price'\n",
    "               ]"
   ]
  },
  {
   "cell_type": "code",
   "execution_count": 41,
   "id": "8020ee36-6005-41d1-80d5-37a66ceb24f8",
   "metadata": {},
   "outputs": [
    {
     "data": {
      "text/plain": [
       "price          4\n",
       "width          0\n",
       "engine-size    0\n",
       "dtype: int64"
      ]
     },
     "execution_count": 41,
     "metadata": {},
     "output_type": "execute_result"
    }
   ],
   "source": [
    "# 不適切なデータ「？」のカウント\n",
    "auto = auto[['price', 'width', 'engine-size']]\n",
    "auto.isin(['?']).sum()"
   ]
  },
  {
   "cell_type": "code",
   "execution_count": 42,
   "id": "09efaac3-54f5-4a13-b612-30cff86b3d59",
   "metadata": {},
   "outputs": [],
   "source": [
    "# ? をNaNに置換して、NaNがある行を削除\n",
    "auto = auto.replace('?', np.nan).dropna()"
   ]
  },
  {
   "cell_type": "code",
   "execution_count": 44,
   "id": "a8cd5258-b178-43f8-9c74-d228795db92b",
   "metadata": {},
   "outputs": [
    {
     "data": {
      "text/plain": [
       "price            int64\n",
       "width          float64\n",
       "engine-size      int64\n",
       "dtype: object"
      ]
     },
     "execution_count": 44,
     "metadata": {},
     "output_type": "execute_result"
    }
   ],
   "source": [
    "auto = auto.assign(price=pd.to_numeric(auto.price))\n",
    "auto.dtypes"
   ]
  },
  {
   "cell_type": "code",
   "execution_count": 45,
   "id": "2e849b5d-937a-4797-9b5a-bd2a5587d5fb",
   "metadata": {},
   "outputs": [
    {
     "data": {
      "text/plain": [
       "LinearRegression()"
      ]
     },
     "execution_count": 45,
     "metadata": {},
     "output_type": "execute_result"
    }
   ],
   "source": [
    "# X:説明変数 y:目的変数\n",
    "X = auto.drop('price', axis=1)\n",
    "y = auto['price']\n",
    "\n",
    "X_train, X_test, y_train, y_test = train_test_split(X,y, test_size=0.5, random_state=0)\n",
    "\n",
    "model = LinearRegression()\n",
    "model.fit(X_train, y_train)"
   ]
  },
  {
   "cell_type": "code",
   "execution_count": 46,
   "id": "5808aff0-3b2a-44d5-aa6e-ea5f838fb59f",
   "metadata": {},
   "outputs": [
    {
     "name": "stdout",
     "output_type": "stream",
     "text": [
      "0.783188597901612\n",
      "0.778292193907783\n"
     ]
    }
   ],
   "source": [
    "print(model.score(X_train, y_train))\n",
    "print(model.score(X_test, y_test))"
   ]
  },
  {
   "cell_type": "code",
   "execution_count": 47,
   "id": "06e9d60d-d049-4d9a-bd85-fe26ca70ba97",
   "metadata": {},
   "outputs": [
    {
     "name": "stdout",
     "output_type": "stream",
     "text": [
      "\n",
      "回帰係数\n",
      "width          1261.735518\n",
      "engine-size     109.526787\n",
      "dtype: float64\n",
      "切片：-84060.643\n"
     ]
    }
   ],
   "source": [
    "print('\\n回帰係数\\n{}'.format(pd.Series(model.coef_, index=X.columns)))\n",
    "print('切片：{:.3f}'.format(model.intercept_))"
   ]
  },
  {
   "cell_type": "code",
   "execution_count": null,
   "id": "47899810-6ae3-4598-9933-b700058f534c",
   "metadata": {},
   "outputs": [],
   "source": []
  }
 ],
 "metadata": {
  "kernelspec": {
   "display_name": "Python 3",
   "language": "python",
   "name": "python3"
  },
  "language_info": {
   "codemirror_mode": {
    "name": "ipython",
    "version": 3
   },
   "file_extension": ".py",
   "mimetype": "text/x-python",
   "name": "python",
   "nbconvert_exporter": "python",
   "pygments_lexer": "ipython3",
   "version": "3.8.8"
  }
 },
 "nbformat": 4,
 "nbformat_minor": 5
}
