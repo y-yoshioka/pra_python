{
 "cells": [
  {
   "cell_type": "code",
   "execution_count": 1,
   "id": "a9aa311f-7334-4af1-bd05-396496eabfee",
   "metadata": {},
   "outputs": [],
   "source": [
    "import numpy as np\n",
    "from scipy import linalg"
   ]
  },
  {
   "cell_type": "code",
   "execution_count": 2,
   "id": "c2d894d2-60b9-4d1a-8266-4b4d8445bfb4",
   "metadata": {},
   "outputs": [
    {
     "data": {
      "text/plain": [
       "array([[ 1, -1, -1],\n",
       "       [-1,  1, -1],\n",
       "       [-1, -1,  1]])"
      ]
     },
     "execution_count": 2,
     "metadata": {},
     "output_type": "execute_result"
    }
   ],
   "source": [
    "matrix = np.array([[1,-1,-1],[-1,1,-1],[-1,-1,1]])\n",
    "matrix"
   ]
  },
  {
   "cell_type": "code",
   "execution_count": 3,
   "id": "18b8b66e-ad3f-427b-829f-677b26bb26af",
   "metadata": {},
   "outputs": [
    {
     "name": "stdout",
     "output_type": "stream",
     "text": [
      "行列式-4.0\n"
     ]
    }
   ],
   "source": [
    "print(\"行列式{0}\".format(linalg.det(matrix)))"
   ]
  },
  {
   "cell_type": "code",
   "execution_count": 4,
   "id": "7cffe83d-cfdd-4c9c-81e0-7a7541b01fae",
   "metadata": {},
   "outputs": [
    {
     "name": "stdout",
     "output_type": "stream",
     "text": [
      "逆行列[[ 0.  -0.5 -0.5]\n",
      " [-0.5 -0.  -0.5]\n",
      " [-0.5 -0.5  0. ]]\n"
     ]
    }
   ],
   "source": [
    "print(\"逆行列{0}\".format(linalg.inv(matrix)))"
   ]
  },
  {
   "cell_type": "code",
   "execution_count": 5,
   "id": "349c9ccd-ca91-4f65-8a32-0a4d06e348be",
   "metadata": {},
   "outputs": [
    {
     "name": "stdout",
     "output_type": "stream",
     "text": [
      "[[1. 0. 0.]\n",
      " [0. 1. 0.]\n",
      " [0. 0. 1.]]\n"
     ]
    }
   ],
   "source": [
    "print(matrix.dot(linalg.inv(matrix)))"
   ]
  },
  {
   "cell_type": "code",
   "execution_count": 8,
   "id": "e171b762-0b6b-4d7a-bff3-0fe00cbbf74d",
   "metadata": {},
   "outputs": [
    {
     "name": "stdout",
     "output_type": "stream",
     "text": [
      "固有値[-1.+0.j  2.+0.j  2.+0.j]\n",
      "固有ベクトル[[ 0.57735027  0.81649658  0.40824829]\n",
      " [ 0.57735027 -0.40824829 -0.81649658]\n",
      " [ 0.57735027 -0.40824829  0.40824829]]\n"
     ]
    }
   ],
   "source": [
    "eig_value, eig_vector = linalg.eig(matrix)\n",
    "print(\"固有値{0}\".format(eig_value))\n",
    "print(\"固有ベクトル{0}\".format(eig_vector))"
   ]
  },
  {
   "cell_type": "code",
   "execution_count": 9,
   "id": "2b334fd5-b570-45ba-9f06-960e1fbc9f5a",
   "metadata": {},
   "outputs": [],
   "source": [
    "from scipy.optimize import newton"
   ]
  },
  {
   "cell_type": "code",
   "execution_count": 12,
   "id": "fe921408-1b9c-4f5a-b81f-5073dabc2925",
   "metadata": {},
   "outputs": [],
   "source": [
    "def my_function(x):\n",
    "    return (x**2 + 2*x + 1)"
   ]
  },
  {
   "cell_type": "code",
   "execution_count": 17,
   "id": "71776435-c93d-4c4d-87aa-c0ca8bd3b25d",
   "metadata": {},
   "outputs": [
    {
     "name": "stdout",
     "output_type": "stream",
     "text": [
      "-0.999999979744582\n",
      "-0.999999985174924\n"
     ]
    }
   ],
   "source": [
    "print (newton(my_function,100))\n",
    "print (newton(my_function,0))"
   ]
  },
  {
   "cell_type": "code",
   "execution_count": 18,
   "id": "5f93c4ca-2301-4d04-ab10-0f11d2b89fbd",
   "metadata": {},
   "outputs": [
    {
     "name": "stdout",
     "output_type": "stream",
     "text": [
      "行列式-12.000000000000002\n"
     ]
    }
   ],
   "source": [
    "test2 = np.array([[1,2,3],[1,3,2],[3,1,2]])\n",
    "print(\"行列式{0}\".format(linalg.det(test2)))"
   ]
  },
  {
   "cell_type": "code",
   "execution_count": 19,
   "id": "8ad39a54-fd4c-4f0e-8f49-5a98dad1cbc6",
   "metadata": {},
   "outputs": [
    {
     "name": "stdout",
     "output_type": "stream",
     "text": [
      "固有値[ 6.        +0.j -1.41421356+0.j  1.41421356+0.j]\n",
      "固有ベクトル[[-0.57735027 -0.72236645  0.16041816]\n",
      " [-0.57735027 -0.14290228 -0.81090869]\n",
      " [-0.57735027  0.67658381  0.56275492]]\n"
     ]
    }
   ],
   "source": [
    "eig_value2, eig_vector2 = linalg.eig(test2)\n",
    "print(\"固有値{0}\".format(eig_value2))\n",
    "print(\"固有ベクトル{0}\".format(eig_vector2))"
   ]
  },
  {
   "cell_type": "code",
   "execution_count": 21,
   "id": "ea0b6d9a-8c64-4f61-a649-2e374152c4a1",
   "metadata": {},
   "outputs": [],
   "source": [
    "def test_function(x):\n",
    "    return (x**3 + 2*x + 1)"
   ]
  },
  {
   "cell_type": "code",
   "execution_count": 22,
   "id": "4699fb23-797c-48f6-b981-a9ca95098f4b",
   "metadata": {},
   "outputs": [
    {
     "name": "stdout",
     "output_type": "stream",
     "text": [
      "-0.45339765151640365\n"
     ]
    }
   ],
   "source": [
    "print (newton(test_function,0))"
   ]
  },
  {
   "cell_type": "code",
   "execution_count": null,
   "id": "47e8c868-927c-48a9-943a-a4deb8bb7b6d",
   "metadata": {},
   "outputs": [],
   "source": []
  }
 ],
 "metadata": {
  "kernelspec": {
   "display_name": "Python 3",
   "language": "python",
   "name": "python3"
  },
  "language_info": {
   "codemirror_mode": {
    "name": "ipython",
    "version": 3
   },
   "file_extension": ".py",
   "mimetype": "text/x-python",
   "name": "python",
   "nbconvert_exporter": "python",
   "pygments_lexer": "ipython3",
   "version": "3.8.8"
  }
 },
 "nbformat": 4,
 "nbformat_minor": 5
}
