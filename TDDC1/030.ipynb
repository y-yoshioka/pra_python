{
 "cells": [
  {
   "cell_type": "code",
   "execution_count": 21,
   "id": "e47398a7-4ac6-43e8-ac32-9c1a8f04e7a0",
   "metadata": {},
   "outputs": [],
   "source": [
    "def print_prime_num(n):\n",
    "    if n < 1:\n",
    "        print('error')\n",
    "        return\n",
    "    if n == 1:\n",
    "        print('1')\n",
    "        return\n",
    "    for cnt in range(1, n + 1):\n",
    "        for div in range(2, n + 1):\n",
    "            if cnt % div != 0:\n",
    "                continue\n",
    "            else:\n",
    "                if div == n:\n",
    "                    print('{0}'.format(n))\n",
    "                else:\n",
    "                    break"
   ]
  },
  {
   "cell_type": "code",
   "execution_count": 25,
   "id": "ac30b5f4-10c9-47b5-b424-7b1b1e328f69",
   "metadata": {},
   "outputs": [],
   "source": [
    "def print_until_prime_num(n):\n",
    "    for cnt in range(1, n + 1):\n",
    "        print_prime_num(cnt)"
   ]
  },
  {
   "cell_type": "code",
   "execution_count": 27,
   "id": "813a274d-ced2-41f8-8d42-445235718693",
   "metadata": {},
   "outputs": [
    {
     "name": "stdout",
     "output_type": "stream",
     "text": [
      "1\n",
      "2\n",
      "3\n",
      "5\n",
      "7\n",
      "11\n",
      "13\n",
      "17\n",
      "19\n",
      "23\n",
      "29\n"
     ]
    }
   ],
   "source": [
    "print_until_prime_num(30)"
   ]
  },
  {
   "cell_type": "code",
   "execution_count": null,
   "id": "fb321a83-9165-4bfe-89dd-1a8cdb2e9d45",
   "metadata": {},
   "outputs": [],
   "source": []
  }
 ],
 "metadata": {
  "kernelspec": {
   "display_name": "Python 3",
   "language": "python",
   "name": "python3"
  },
  "language_info": {
   "codemirror_mode": {
    "name": "ipython",
    "version": 3
   },
   "file_extension": ".py",
   "mimetype": "text/x-python",
   "name": "python",
   "nbconvert_exporter": "python",
   "pygments_lexer": "ipython3",
   "version": "3.8.8"
  }
 },
 "nbformat": 4,
 "nbformat_minor": 5
}
