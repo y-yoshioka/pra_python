{
 "cells": [
  {
   "cell_type": "code",
   "execution_count": 1,
   "id": "799cd34f-6747-42a2-840b-108c27f7a1f6",
   "metadata": {},
   "outputs": [],
   "source": [
    "import numpy as np\n",
    "import scipy as sp\n",
    "import pandas as pd\n",
    "from pandas import Series, DataFrame"
   ]
  },
  {
   "cell_type": "code",
   "execution_count": 2,
   "id": "4ef5c057-dcf1-4fe3-8686-75a9649cd800",
   "metadata": {},
   "outputs": [],
   "source": [
    "import matplotlib.pyplot as plt\n",
    "import matplotlib as mpl\n",
    "import seaborn as sns"
   ]
  },
  {
   "cell_type": "code",
   "execution_count": 3,
   "id": "41f9037a-40f3-4104-9b23-6b06deb63338",
   "metadata": {},
   "outputs": [
    {
     "data": {
      "text/plain": [
       "'%.3f'"
      ]
     },
     "execution_count": 3,
     "metadata": {},
     "output_type": "execute_result"
    }
   ],
   "source": [
    "%matplotlib inline\n",
    "%precision 3"
   ]
  },
  {
   "cell_type": "code",
   "execution_count": 4,
   "id": "ee75be52-6c42-4f08-befb-99fea112b6e9",
   "metadata": {},
   "outputs": [],
   "source": [
    "np.random.seed(0)"
   ]
  },
  {
   "cell_type": "code",
   "execution_count": 5,
   "id": "4109e33d-bc20-4116-9853-9f3430b61f68",
   "metadata": {},
   "outputs": [],
   "source": [
    "dice_data = np.array([1,2,3,4,5,6])"
   ]
  },
  {
   "cell_type": "code",
   "execution_count": 6,
   "id": "711a9904-106e-4e30-85d7-62c563d5af40",
   "metadata": {},
   "outputs": [
    {
     "data": {
      "text/plain": [
       "array([5])"
      ]
     },
     "execution_count": 6,
     "metadata": {},
     "output_type": "execute_result"
    }
   ],
   "source": [
    "np.random.choice(dice_data,1)"
   ]
  },
  {
   "cell_type": "code",
   "execution_count": 25,
   "id": "25e25b94-4842-45a4-a959-812643425347",
   "metadata": {},
   "outputs": [],
   "source": [
    "calc_steps = 1000"
   ]
  },
  {
   "cell_type": "code",
   "execution_count": 26,
   "id": "597e4238-2f6b-43f8-a6f3-e6ed16f74c0b",
   "metadata": {},
   "outputs": [],
   "source": [
    "dice_rolls = np.random.choice(dice_data, calc_steps)"
   ]
  },
  {
   "cell_type": "code",
   "execution_count": 27,
   "id": "e76e54a5-2228-4947-b860-a04e83dcdca6",
   "metadata": {},
   "outputs": [
    {
     "name": "stdout",
     "output_type": "stream",
     "text": [
      "1 が出る確率 0.167\n",
      "2 が出る確率 0.177\n",
      "3 が出る確率 0.162\n",
      "4 が出る確率 0.169\n",
      "5 が出る確率 0.162\n",
      "6 が出る確率 0.163\n"
     ]
    }
   ],
   "source": [
    "for i in range(1, 7):\n",
    "    p = len(dice_rolls[dice_rolls==i]) / calc_steps\n",
    "    print(i, 'が出る確率', p)"
   ]
  },
  {
   "cell_type": "code",
   "execution_count": 28,
   "id": "4af08dc9-d4e4-4425-94db-fb3b3da2db89",
   "metadata": {},
   "outputs": [],
   "source": [
    "coin_data = np.array([0,1])"
   ]
  },
  {
   "cell_type": "code",
   "execution_count": 29,
   "id": "db8ce77b-a96f-4349-9d96-65a57181a271",
   "metadata": {},
   "outputs": [],
   "source": [
    "coin_throws = np.random.choice(coin_data, calc_steps)"
   ]
  },
  {
   "cell_type": "code",
   "execution_count": 31,
   "id": "265a4a75-41ae-4e7e-a054-9743b7239045",
   "metadata": {},
   "outputs": [
    {
     "name": "stdout",
     "output_type": "stream",
     "text": [
      "0 が出る確率 0.499\n",
      "1 が出る確率 0.501\n"
     ]
    }
   ],
   "source": [
    "for i in range(0, 2):\n",
    "    p = len(coin_throws[coin_throws==i]) / calc_steps\n",
    "    print(i, 'が出る確率', p)"
   ]
  },
  {
   "cell_type": "code",
   "execution_count": 33,
   "id": "e2416a5f-fe7a-42e3-b05b-ca91f6bd9336",
   "metadata": {},
   "outputs": [
    {
     "data": {
      "text/plain": [
       "0.010"
      ]
     },
     "execution_count": 33,
     "metadata": {},
     "output_type": "execute_result"
    }
   ],
   "source": [
    "i = 100/1000 * 99/999 \n",
    "i"
   ]
  },
  {
   "cell_type": "code",
   "execution_count": 41,
   "id": "ab93a340-895a-4a49-bc56-fc544a2c3143",
   "metadata": {},
   "outputs": [
    {
     "data": {
      "text/plain": [
       "0.032"
      ]
     },
     "execution_count": 41,
     "metadata": {},
     "output_type": "execute_result"
    }
   ],
   "source": [
    "j = 99/100*0.001/(0.001 * 99/100 + 0.999 * 3/100)\n",
    "j"
   ]
  },
  {
   "cell_type": "code",
   "execution_count": 38,
   "id": "719ad333-8828-4b84-9c7a-519cb9c04ee7",
   "metadata": {},
   "outputs": [
    {
     "data": {
      "text/plain": [
       "0.032"
      ]
     },
     "execution_count": 38,
     "metadata": {},
     "output_type": "execute_result"
    }
   ],
   "source": [
    "0.99*0.001/(0.99*0.001+0.03*0.999)"
   ]
  },
  {
   "cell_type": "code",
   "execution_count": null,
   "id": "ce66f432-78cb-447f-9592-47023cd6febd",
   "metadata": {},
   "outputs": [],
   "source": []
  },
  {
   "cell_type": "code",
   "execution_count": null,
   "id": "1011b12c-55f0-4612-95c1-6eaad040d015",
   "metadata": {},
   "outputs": [],
   "source": []
  }
 ],
 "metadata": {
  "kernelspec": {
   "display_name": "Python 3",
   "language": "python",
   "name": "python3"
  },
  "language_info": {
   "codemirror_mode": {
    "name": "ipython",
    "version": 3
   },
   "file_extension": ".py",
   "mimetype": "text/x-python",
   "name": "python",
   "nbconvert_exporter": "python",
   "pygments_lexer": "ipython3",
   "version": "3.8.8"
  }
 },
 "nbformat": 4,
 "nbformat_minor": 5
}
