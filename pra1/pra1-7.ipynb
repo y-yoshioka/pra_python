{
 "cells": [
  {
   "cell_type": "code",
   "execution_count": 1,
   "id": "048674ef-3f0f-4b4c-a041-0995eb1473d4",
   "metadata": {},
   "outputs": [],
   "source": [
    "class Person:\n",
    "    def __init__(self, name, age):\n",
    "        self.name = name\n",
    "        self.age = age\n",
    "        \n",
    "    def __call__(self):\n",
    "        print(\"コール関数\")\n",
    "        \n",
    "    def introduce(self):\n",
    "        print(\"こんにちは、私は{}です\".format(self.name))"
   ]
  },
  {
   "cell_type": "code",
   "execution_count": 2,
   "id": "95f64f01-ea36-49f5-86e2-0a17ac009ca4",
   "metadata": {},
   "outputs": [],
   "source": [
    "nameA = Person(\"a\", 15)"
   ]
  },
  {
   "cell_type": "code",
   "execution_count": 3,
   "id": "37d60e18-bd5a-4dc8-b688-51c310a3d59a",
   "metadata": {},
   "outputs": [
    {
     "data": {
      "text/plain": [
       "'a'"
      ]
     },
     "execution_count": 3,
     "metadata": {},
     "output_type": "execute_result"
    }
   ],
   "source": [
    "nameA.name"
   ]
  },
  {
   "cell_type": "code",
   "execution_count": 4,
   "id": "489803de-9164-47f7-8567-23604a02d994",
   "metadata": {},
   "outputs": [
    {
     "data": {
      "text/plain": [
       "15"
      ]
     },
     "execution_count": 4,
     "metadata": {},
     "output_type": "execute_result"
    }
   ],
   "source": [
    "nameA.age"
   ]
  },
  {
   "cell_type": "code",
   "execution_count": 6,
   "id": "7cceb72e-a8c7-449e-a506-1eac9d8e0b32",
   "metadata": {},
   "outputs": [
    {
     "name": "stdout",
     "output_type": "stream",
     "text": [
      "コール関数\n"
     ]
    }
   ],
   "source": [
    "nameA()"
   ]
  },
  {
   "cell_type": "code",
   "execution_count": 7,
   "id": "7d14b8ff-d385-45ce-8d9f-5c224f93bd50",
   "metadata": {},
   "outputs": [
    {
     "name": "stdout",
     "output_type": "stream",
     "text": [
      "こんにちは、私はaです\n"
     ]
    }
   ],
   "source": [
    "nameA.introduce()"
   ]
  },
  {
   "cell_type": "code",
   "execution_count": null,
   "id": "125515d0-e98f-49fb-a60f-bc80fbec9089",
   "metadata": {},
   "outputs": [],
   "source": []
  }
 ],
 "metadata": {
  "kernelspec": {
   "display_name": "Python 3",
   "language": "python",
   "name": "python3"
  },
  "language_info": {
   "codemirror_mode": {
    "name": "ipython",
    "version": 3
   },
   "file_extension": ".py",
   "mimetype": "text/x-python",
   "name": "python",
   "nbconvert_exporter": "python",
   "pygments_lexer": "ipython3",
   "version": "3.8.8"
  }
 },
 "nbformat": 4,
 "nbformat_minor": 5
}
