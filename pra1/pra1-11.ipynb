{
 "cells": [
  {
   "cell_type": "code",
   "execution_count": 25,
   "id": "0b0676d6-f338-4f5b-995a-1d93adf7288e",
   "metadata": {},
   "outputs": [],
   "source": [
    " import pandas as pd\n",
    "# csvの読み取り\n",
    "df= pd.read_table(\"pips.txt\")\n"
   ]
  },
  {
   "cell_type": "code",
   "execution_count": 26,
   "id": "49120b95-08e7-44f3-8579-1259b4d01bc9",
   "metadata": {},
   "outputs": [
    {
     "name": "stdout",
     "output_type": "stream",
     "text": [
      "Empty DataFrame\n",
      "Columns: [Hello World]\n",
      "Index: []\n"
     ]
    }
   ],
   "source": [
    "print(df)"
   ]
  },
  {
   "cell_type": "code",
   "execution_count": 9,
   "id": "d168ed64-34d6-4023-8a7e-22580974a5b6",
   "metadata": {},
   "outputs": [],
   "source": [
    "path = \"pips.txt\""
   ]
  },
  {
   "cell_type": "code",
   "execution_count": 13,
   "id": "9fc9e2de-e8eb-4fa8-b074-92f453cf2255",
   "metadata": {},
   "outputs": [],
   "source": [
    "f = open(path, 'w')"
   ]
  },
  {
   "cell_type": "code",
   "execution_count": 15,
   "id": "505d3530-2c38-4119-b65f-5c72199b4642",
   "metadata": {},
   "outputs": [
    {
     "data": {
      "text/plain": [
       "11"
      ]
     },
     "execution_count": 15,
     "metadata": {},
     "output_type": "execute_result"
    }
   ],
   "source": [
    "f.write(\"Hello World\")"
   ]
  },
  {
   "cell_type": "code",
   "execution_count": 19,
   "id": "de5db78c-b4ad-40e9-b531-8953bcc42ffa",
   "metadata": {},
   "outputs": [],
   "source": [
    "f.flush()"
   ]
  },
  {
   "cell_type": "code",
   "execution_count": 20,
   "id": "8264084e-5c08-475d-8c7e-af31b5847548",
   "metadata": {},
   "outputs": [],
   "source": [
    "f.close()"
   ]
  },
  {
   "cell_type": "code",
   "execution_count": 27,
   "id": "14ba41c2-f6b2-4585-a5c4-fe9582a9e488",
   "metadata": {},
   "outputs": [],
   "source": [
    "with open(path, 'w') as file:\n",
    "    file.write(\"good morning world!\")"
   ]
  },
  {
   "cell_type": "code",
   "execution_count": null,
   "id": "adc25a20-d5b8-4f5c-a6c4-9c7eb30ad4b1",
   "metadata": {},
   "outputs": [],
   "source": []
  }
 ],
 "metadata": {
  "kernelspec": {
   "display_name": "Python 3",
   "language": "python",
   "name": "python3"
  },
  "language_info": {
   "codemirror_mode": {
    "name": "ipython",
    "version": 3
   },
   "file_extension": ".py",
   "mimetype": "text/x-python",
   "name": "python",
   "nbconvert_exporter": "python",
   "pygments_lexer": "ipython3",
   "version": "3.8.8"
  }
 },
 "nbformat": 4,
 "nbformat_minor": 5
}
