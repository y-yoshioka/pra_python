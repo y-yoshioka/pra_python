{
 "cells": [
  {
   "cell_type": "code",
   "execution_count": 1,
   "id": "e72ddf24-712f-452d-a7b4-f60f0fab5cba",
   "metadata": {},
   "outputs": [
    {
     "data": {
      "text/plain": [
       "50"
      ]
     },
     "execution_count": 1,
     "metadata": {},
     "output_type": "execute_result"
    }
   ],
   "source": [
    "listnum = [10, 20, 30, 40, 50]\n",
    "listnum[-1]"
   ]
  },
  {
   "cell_type": "code",
   "execution_count": 2,
   "id": "181413f4-5003-496f-97be-18444cf45411",
   "metadata": {},
   "outputs": [
    {
     "data": {
      "text/plain": [
       "[10, 20]"
      ]
     },
     "execution_count": 2,
     "metadata": {},
     "output_type": "execute_result"
    }
   ],
   "source": [
    "# 0番目から２番目の一つ前まで\n",
    "listnum[0:2]"
   ]
  },
  {
   "cell_type": "code",
   "execution_count": 3,
   "id": "52788b9e-ee1f-4dc4-98f9-62dabd12282a",
   "metadata": {},
   "outputs": [
    {
     "data": {
      "text/plain": [
       "[10, 20, 30, 40, 50]"
      ]
     },
     "execution_count": 3,
     "metadata": {},
     "output_type": "execute_result"
    }
   ],
   "source": [
    "# 0番目から全部\n",
    "listnum[0:]"
   ]
  },
  {
   "cell_type": "code",
   "execution_count": 4,
   "id": "90f7094d-611f-485e-af3e-437e3c0256b7",
   "metadata": {},
   "outputs": [
    {
     "data": {
      "text/plain": [
       "[30, 40, 50]"
      ]
     },
     "execution_count": 4,
     "metadata": {},
     "output_type": "execute_result"
    }
   ],
   "source": [
    "# 2番目から全部\n",
    "listnum[2:]"
   ]
  },
  {
   "cell_type": "code",
   "execution_count": 5,
   "id": "15281607-401a-4ced-a728-79e629284db6",
   "metadata": {},
   "outputs": [
    {
     "data": {
      "text/plain": [
       "[10, 20, 30]"
      ]
     },
     "execution_count": 5,
     "metadata": {},
     "output_type": "execute_result"
    }
   ],
   "source": [
    "# 0番目から-3まで\n",
    "listnum[:-2]"
   ]
  },
  {
   "cell_type": "code",
   "execution_count": 6,
   "id": "af7a8ac4-a1db-4a37-aa44-3efaa3ce93bc",
   "metadata": {},
   "outputs": [
    {
     "data": {
      "text/plain": [
       "[30, 40]"
      ]
     },
     "execution_count": 6,
     "metadata": {},
     "output_type": "execute_result"
    }
   ],
   "source": [
    "listnum[-3:-1]"
   ]
  },
  {
   "cell_type": "code",
   "execution_count": 7,
   "id": "c741096d-a16c-4c19-b30e-2ae87963b271",
   "metadata": {},
   "outputs": [
    {
     "data": {
      "text/plain": [
       "[10, 20, 30, 40, 50]"
      ]
     },
     "execution_count": 7,
     "metadata": {},
     "output_type": "execute_result"
    }
   ],
   "source": [
    "listnum"
   ]
  },
  {
   "cell_type": "code",
   "execution_count": 8,
   "id": "dd4fdc23-c59f-4b6f-bd3f-db44f46b492e",
   "metadata": {},
   "outputs": [
    {
     "data": {
      "text/plain": [
       "[10, 20, 30, 40, 50]"
      ]
     },
     "execution_count": 8,
     "metadata": {},
     "output_type": "execute_result"
    }
   ],
   "source": [
    "listnum[:]"
   ]
  },
  {
   "cell_type": "code",
   "execution_count": 9,
   "id": "6f576555-8929-4ec1-b106-1d21503e49d7",
   "metadata": {},
   "outputs": [
    {
     "data": {
      "text/plain": [
       "[10, 20, 30, 40, 50, 60]"
      ]
     },
     "execution_count": 9,
     "metadata": {},
     "output_type": "execute_result"
    }
   ],
   "source": [
    "listnum.append(60)\n",
    "listnum"
   ]
  },
  {
   "cell_type": "code",
   "execution_count": 10,
   "id": "1960f03d-360a-462a-9046-3d2b0511f359",
   "metadata": {},
   "outputs": [
    {
     "data": {
      "text/plain": [
       "[10, 20, 30, 40, 50]"
      ]
     },
     "execution_count": 10,
     "metadata": {},
     "output_type": "execute_result"
    }
   ],
   "source": [
    "listnum.pop()\n",
    "listnum"
   ]
  },
  {
   "cell_type": "code",
   "execution_count": 11,
   "id": "71b03942-fc55-49a8-87ef-174743e5eb22",
   "metadata": {},
   "outputs": [
    {
     "data": {
      "text/plain": [
       "[20, 30, 40, 50]"
      ]
     },
     "execution_count": 11,
     "metadata": {},
     "output_type": "execute_result"
    }
   ],
   "source": [
    "listnum.pop(0)\n",
    "listnum"
   ]
  },
  {
   "cell_type": "code",
   "execution_count": 12,
   "id": "32c30def-e598-4154-ba94-f9d59833d876",
   "metadata": {},
   "outputs": [],
   "source": [
    "dictonary = {\"国語\":80, \"算数\":50, \"英語\":40, \"社会\":100}"
   ]
  },
  {
   "cell_type": "code",
   "execution_count": 13,
   "id": "25a24ac5-56bd-4d80-95da-203cd8b1eede",
   "metadata": {},
   "outputs": [
    {
     "data": {
      "text/plain": [
       "{'国語': 80, '算数': 50, '英語': 40, '社会': 100}"
      ]
     },
     "execution_count": 13,
     "metadata": {},
     "output_type": "execute_result"
    }
   ],
   "source": [
    "dictonary"
   ]
  },
  {
   "cell_type": "code",
   "execution_count": 15,
   "id": "06f6c54f-4580-4458-86f0-7ab3a5ee4939",
   "metadata": {},
   "outputs": [
    {
     "data": {
      "text/plain": [
       "80"
      ]
     },
     "execution_count": 15,
     "metadata": {},
     "output_type": "execute_result"
    }
   ],
   "source": [
    "dictonary[\"国語\"]"
   ]
  },
  {
   "cell_type": "code",
   "execution_count": 17,
   "id": "1da4bfcf-2805-4133-b23e-6a4192fa4e48",
   "metadata": {},
   "outputs": [
    {
     "data": {
      "text/plain": [
       "{'国語': 80, '算数': 50, '英語': 40, '社会': 100, '理科': 96}"
      ]
     },
     "execution_count": 17,
     "metadata": {},
     "output_type": "execute_result"
    }
   ],
   "source": [
    "dictonary[\"理科\"] =96\n",
    "dictonary"
   ]
  },
  {
   "cell_type": "code",
   "execution_count": 20,
   "id": "f6226b50-9b39-467c-ac35-cabb8e8d8819",
   "metadata": {},
   "outputs": [],
   "source": [
    "dict2 = {\"理科\":73,\"物理\":81, \"化学\":82}"
   ]
  },
  {
   "cell_type": "code",
   "execution_count": 21,
   "id": "72126e3b-11ca-4c27-8fe4-5d46739e7feb",
   "metadata": {},
   "outputs": [
    {
     "data": {
      "text/plain": [
       "{'国語': 80, '算数': 50, '英語': 40, '社会': 100, '理科': 73, '物理': 81, '化学': 82}"
      ]
     },
     "execution_count": 21,
     "metadata": {},
     "output_type": "execute_result"
    }
   ],
   "source": [
    "dictonary.update(dict2)\n",
    "dictonary"
   ]
  },
  {
   "cell_type": "code",
   "execution_count": null,
   "id": "9464cb51-243f-4664-9305-6bed9675f031",
   "metadata": {},
   "outputs": [],
   "source": []
  }
 ],
 "metadata": {
  "kernelspec": {
   "display_name": "Python 3",
   "language": "python",
   "name": "python3"
  },
  "language_info": {
   "codemirror_mode": {
    "name": "ipython",
    "version": 3
   },
   "file_extension": ".py",
   "mimetype": "text/x-python",
   "name": "python",
   "nbconvert_exporter": "python",
   "pygments_lexer": "ipython3",
   "version": "3.8.8"
  }
 },
 "nbformat": 4,
 "nbformat_minor": 5
}
