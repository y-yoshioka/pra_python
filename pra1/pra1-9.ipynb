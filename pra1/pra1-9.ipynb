{
 "cells": [
  {
   "cell_type": "code",
   "execution_count": 1,
   "id": "e59d5638-a399-4203-a447-0ba62e08ff77",
   "metadata": {},
   "outputs": [],
   "source": [
    "def calc_triangle(height, width):\n",
    "    return height*width*0.5"
   ]
  },
  {
   "cell_type": "code",
   "execution_count": 4,
   "id": "e3ebba1b-fe68-4a54-be93-25f31f00f0be",
   "metadata": {},
   "outputs": [],
   "source": [
    "height = 100\n",
    "width = \"50\""
   ]
  },
  {
   "cell_type": "code",
   "execution_count": 9,
   "id": "3e7320f7-9f76-469c-9025-3e69aa77571c",
   "metadata": {},
   "outputs": [
    {
     "name": "stdout",
     "output_type": "stream",
     "text": [
      "エラー発生\n",
      "can't multiply sequence by non-int of type 'float'\n"
     ]
    }
   ],
   "source": [
    "try:\n",
    "    calc_triangle(height,width)\n",
    "except Exception as e:\n",
    "    print (\"エラー発生\")\n",
    "    print (e)"
   ]
  },
  {
   "cell_type": "code",
   "execution_count": 16,
   "id": "67b891d7-161b-4104-8909-925c7bf5cb76",
   "metadata": {},
   "outputs": [
    {
     "name": "stdout",
     "output_type": "stream",
     "text": [
      "division by zero エラー\n",
      "finally\n"
     ]
    }
   ],
   "source": [
    "try:\n",
    "    result = 10/0\n",
    "except ZeroDivisionError as e:\n",
    "    print(e , \"エラー\")\n",
    "finally:\n",
    "    print (\"finally\")"
   ]
  },
  {
   "cell_type": "code",
   "execution_count": null,
   "id": "4f57d3c4-abb9-4e7c-b261-6228da93e3cb",
   "metadata": {},
   "outputs": [],
   "source": []
  }
 ],
 "metadata": {
  "kernelspec": {
   "display_name": "Python 3",
   "language": "python",
   "name": "python3"
  },
  "language_info": {
   "codemirror_mode": {
    "name": "ipython",
    "version": 3
   },
   "file_extension": ".py",
   "mimetype": "text/x-python",
   "name": "python",
   "nbconvert_exporter": "python",
   "pygments_lexer": "ipython3",
   "version": "3.8.8"
  }
 },
 "nbformat": 4,
 "nbformat_minor": 5
}
