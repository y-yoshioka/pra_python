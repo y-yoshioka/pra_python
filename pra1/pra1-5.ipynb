{
 "cells": [
  {
   "cell_type": "code",
   "execution_count": 5,
   "id": "96ea8f9b-1d0d-45fa-8078-6d169340f692",
   "metadata": {},
   "outputs": [
    {
     "name": "stdout",
     "output_type": "stream",
     "text": [
      "あいう\n",
      "か聞く\n",
      "さしす\n"
     ]
    }
   ],
   "source": [
    "def printList (list):\n",
    "    for word in list:\n",
    "        print(word)\n",
    "    return\n",
    "\n",
    "list = [\"あいう\",\"か聞く\",\"さしす\"]\n",
    "printList(list)\n"
   ]
  },
  {
   "cell_type": "code",
   "execution_count": 6,
   "id": "dd17943b-a098-45f9-b476-206ab332c172",
   "metadata": {},
   "outputs": [
    {
     "data": {
      "text/plain": [
       "2000"
      ]
     },
     "execution_count": 6,
     "metadata": {},
     "output_type": "execute_result"
    }
   ],
   "source": [
    "def calcSquare(width, height):\n",
    "    return width*height\n",
    "\n",
    "calcSquare(100, 20)\n"
   ]
  },
  {
   "cell_type": "code",
   "execution_count": null,
   "id": "689c452f-1d9c-446a-9cf2-e1736b01bc7d",
   "metadata": {},
   "outputs": [],
   "source": []
  }
 ],
 "metadata": {
  "kernelspec": {
   "display_name": "Python 3",
   "language": "python",
   "name": "python3"
  },
  "language_info": {
   "codemirror_mode": {
    "name": "ipython",
    "version": 3
   },
   "file_extension": ".py",
   "mimetype": "text/x-python",
   "name": "python",
   "nbconvert_exporter": "python",
   "pygments_lexer": "ipython3",
   "version": "3.8.8"
  }
 },
 "nbformat": 4,
 "nbformat_minor": 5
}
