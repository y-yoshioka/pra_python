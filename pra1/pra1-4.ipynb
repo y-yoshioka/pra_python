{
 "cells": [
  {
   "cell_type": "code",
   "execution_count": 10,
   "id": "56f22304-8b9b-4d49-a16f-55ea1f1913d5",
   "metadata": {},
   "outputs": [
    {
     "name": "stdout",
     "output_type": "stream",
     "text": [
      "8000以上\n"
     ]
    }
   ],
   "source": [
    "money = 9000\n",
    "if money >= 8000:\n",
    "    print(\"8000以上\")\n",
    "elif money >=2000:\n",
    "    print(\"2000以上\")\n",
    "else:\n",
    "    print(\"2000未満\")\n"
   ]
  },
  {
   "cell_type": "code",
   "execution_count": 13,
   "id": "9f4d121c-6d70-4096-94b6-d6e76def9ee5",
   "metadata": {},
   "outputs": [
    {
     "name": "stdout",
     "output_type": "stream",
     "text": [
      "0\n",
      "1\n",
      "2\n",
      "3\n",
      "4\n"
     ]
    }
   ],
   "source": [
    "for i in range(5):\n",
    "    print(i)"
   ]
  },
  {
   "cell_type": "code",
   "execution_count": 17,
   "id": "c60bdde1-dece-4193-b3cf-e763143c1ce9",
   "metadata": {},
   "outputs": [
    {
     "name": "stdout",
     "output_type": "stream",
     "text": [
      "あ\n",
      "い\n",
      "う\n",
      "え\n",
      "お\n"
     ]
    }
   ],
   "source": [
    "taple = (\"あ\", \"い\", \"う\", \"え\", \"お\")\n",
    "for i in range(len(taple)):\n",
    "    print(taple[i])"
   ]
  },
  {
   "cell_type": "code",
   "execution_count": 22,
   "id": "a356da2c-b186-4fbf-8657-061be6117209",
   "metadata": {},
   "outputs": [
    {
     "name": "stdout",
     "output_type": "stream",
     "text": [
      "210\n"
     ]
    }
   ],
   "source": [
    "num = 0\n",
    "for i in range(20):\n",
    "    num += i + 1\n",
    "print(num)"
   ]
  },
  {
   "cell_type": "code",
   "execution_count": 23,
   "id": "588f5744-8e22-4a5a-bd3b-e5071b5a11de",
   "metadata": {},
   "outputs": [
    {
     "name": "stdout",
     "output_type": "stream",
     "text": [
      "あ\n",
      "い\n",
      "う\n",
      "え\n",
      "お\n"
     ]
    }
   ],
   "source": [
    "names = (\"あ\", \"い\", \"う\", \"え\", \"お\")\n",
    "for name in names:\n",
    "    print(name)"
   ]
  },
  {
   "cell_type": "code",
   "execution_count": 29,
   "id": "fd5e4513-6674-412d-a2e7-d531acb834f4",
   "metadata": {},
   "outputs": [
    {
     "name": "stdout",
     "output_type": "stream",
     "text": [
      "鈴木あさん\n",
      "佐藤いさん\n",
      "田中うさん\n",
      "菊池えさん\n",
      "佐々木おさん\n",
      "かあさん\n"
     ]
    }
   ],
   "source": [
    "familynames = (\"鈴木\",\"佐藤\",\"田中\",\"菊池\",\"佐々木\",\"か\")\n",
    "firstnames = (\"あ\", \"い\", \"う\", \"え\", \"お\")\n",
    "for familyname, firstname in zip(familynames, firstnames):\n",
    "    print (familyname + firstname + \"さん\")"
   ]
  },
  {
   "cell_type": "code",
   "execution_count": 32,
   "id": "436794d8-89eb-4a81-86b8-a5f91b7e28d9",
   "metadata": {},
   "outputs": [
    {
     "name": "stdout",
     "output_type": "stream",
     "text": [
      "0 番目: 鈴木さん\n",
      "1 番目: 佐藤さん\n",
      "2 番目: 田中さん\n",
      "3 番目: 菊池さん\n",
      "4 番目: 佐々木さん\n",
      "5 番目: かさん\n"
     ]
    }
   ],
   "source": [
    "for num, familyname in enumerate(familynames):\n",
    "    print ( num , \"番目:\", familyname + \"さん\")"
   ]
  },
  {
   "cell_type": "code",
   "execution_count": 34,
   "id": "b6a5381b-09da-444e-a1c2-8c25bc7df6ba",
   "metadata": {},
   "outputs": [
    {
     "name": "stdout",
     "output_type": "stream",
     "text": [
      "5 番\n",
      "4 番\n",
      "3 番\n",
      "2 番\n",
      "1 番\n"
     ]
    }
   ],
   "source": [
    "count = 5\n",
    "while count > 0 :\n",
    "    print (count, \"番\")\n",
    "    count -=1"
   ]
  },
  {
   "cell_type": "code",
   "execution_count": null,
   "id": "47f25082-d053-486d-8324-77c4c002969e",
   "metadata": {},
   "outputs": [],
   "source": []
  }
 ],
 "metadata": {
  "kernelspec": {
   "display_name": "Python 3",
   "language": "python",
   "name": "python3"
  },
  "language_info": {
   "codemirror_mode": {
    "name": "ipython",
    "version": 3
   },
   "file_extension": ".py",
   "mimetype": "text/x-python",
   "name": "python",
   "nbconvert_exporter": "python",
   "pygments_lexer": "ipython3",
   "version": "3.8.8"
  }
 },
 "nbformat": 4,
 "nbformat_minor": 5
}
