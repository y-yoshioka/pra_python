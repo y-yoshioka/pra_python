{
 "cells": [
  {
   "cell_type": "code",
   "execution_count": 7,
   "id": "b4820c7b-a4ab-47de-a0f4-ee7ae673a909",
   "metadata": {},
   "outputs": [],
   "source": [
    "def fruit_price(number_of_momo, number_of_mikan):\n",
    "    total_momo = number_of_momo * 200\n",
    "    total_mikan = number_of_mikan * 40\n",
    "    total = total_momo + total_mikan\n",
    "    number_of_momo = number_of_momo + 1\n",
    "\n",
    "    print(\"トータルカウント\", total, \"トータルカウント\")"
   ]
  },
  {
   "cell_type": "code",
   "execution_count": 8,
   "id": "f3435639-e073-4eaf-825e-cad4624eeb0d",
   "metadata": {},
   "outputs": [
    {
     "name": "stdout",
     "output_type": "stream",
     "text": [
      "トータルカウント 2160 トータルカウント\n"
     ]
    }
   ],
   "source": [
    "fruit_price(10, 4)"
   ]
  },
  {
   "cell_type": "code",
   "execution_count": 9,
   "id": "0c032e91-33e5-445c-8002-93f08d7ff458",
   "metadata": {},
   "outputs": [
    {
     "name": "stdout",
     "output_type": "stream",
     "text": [
      "トータルカウント 760 トータルカウント\n",
      "3 桃の数\n"
     ]
    }
   ],
   "source": [
    "momo = 3\n",
    "fruit_price(momo, 4)\n",
    "print(momo,\"桃の数\")"
   ]
  },
  {
   "cell_type": "code",
   "execution_count": 10,
   "id": "56e07d16-1881-498c-a6a5-3553625a66e2",
   "metadata": {},
   "outputs": [
    {
     "name": "stdout",
     "output_type": "stream",
     "text": [
      "abcdefg\n",
      "0123456\n",
      "0123456\n"
     ]
    }
   ],
   "source": [
    "gvar = 'abcdefg'\n",
    " \n",
    "def testfunc():\n",
    "    global gvar\n",
    "    gvar = '0123456'\n",
    "    print(gvar)\n",
    " \n",
    "print(gvar)\n",
    "testfunc()\n",
    "print(gvar)"
   ]
  },
  {
   "cell_type": "code",
   "execution_count": 14,
   "id": "6c665ffa-8337-43c5-8aa6-acd3a30e1a0d",
   "metadata": {},
   "outputs": [
    {
     "name": "stdout",
     "output_type": "stream",
     "text": [
      "0123456\n"
     ]
    },
    {
     "ename": "NameError",
     "evalue": "name 'localvar' is not defined",
     "output_type": "error",
     "traceback": [
      "\u001b[0;31m---------------------------------------------------------------------------\u001b[0m",
      "\u001b[0;31mNameError\u001b[0m                                 Traceback (most recent call last)",
      "\u001b[0;32m<ipython-input-14-7658ca0d5ebe>\u001b[0m in \u001b[0;36m<module>\u001b[0;34m\u001b[0m\n\u001b[1;32m      4\u001b[0m \u001b[0;34m\u001b[0m\u001b[0m\n\u001b[1;32m      5\u001b[0m \u001b[0mtestfunc\u001b[0m\u001b[0;34m(\u001b[0m\u001b[0;34m)\u001b[0m\u001b[0;34m\u001b[0m\u001b[0;34m\u001b[0m\u001b[0m\n\u001b[0;32m----> 6\u001b[0;31m \u001b[0mprint\u001b[0m\u001b[0;34m(\u001b[0m\u001b[0mlocalvar\u001b[0m\u001b[0;34m)\u001b[0m\u001b[0;34m\u001b[0m\u001b[0;34m\u001b[0m\u001b[0m\n\u001b[0m",
      "\u001b[0;31mNameError\u001b[0m: name 'localvar' is not defined"
     ]
    }
   ],
   "source": [
    "def testfunc():\n",
    "    localvar = '0123456'\n",
    "    print(localvar)\n",
    " \n",
    "testfunc()\n",
    "print(localvar)\n"
   ]
  },
  {
   "cell_type": "code",
   "execution_count": null,
   "id": "0a62e959-2cf9-4f7c-9ed7-4cd0e90acc84",
   "metadata": {},
   "outputs": [],
   "source": []
  }
 ],
 "metadata": {
  "kernelspec": {
   "display_name": "Python 3",
   "language": "python",
   "name": "python3"
  },
  "language_info": {
   "codemirror_mode": {
    "name": "ipython",
    "version": 3
   },
   "file_extension": ".py",
   "mimetype": "text/x-python",
   "name": "python",
   "nbconvert_exporter": "python",
   "pygments_lexer": "ipython3",
   "version": "3.8.8"
  }
 },
 "nbformat": 4,
 "nbformat_minor": 5
}
