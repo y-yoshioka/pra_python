{
 "cells": [
  {
   "cell_type": "code",
   "execution_count": 3,
   "id": "eb347b71-c0a4-4fa4-979e-b875c1f499b4",
   "metadata": {},
   "outputs": [],
   "source": [
    "class Person:\n",
    "    def __init__(self, name, national, age):\n",
    "        self.name = name\n",
    "        self.national = national\n",
    "        self.age = age\n",
    "        \n",
    "    def __call__(self):\n",
    "        print(\"コール関数\")\n",
    "        \n",
    "    def introduce(self):\n",
    "        print(\"こんにちは、私は{}です。{}人です。\".format(self.name, self.national))"
   ]
  },
  {
   "cell_type": "code",
   "execution_count": 17,
   "id": "956ae097-5634-41c3-8ab7-d7abb27f9085",
   "metadata": {},
   "outputs": [],
   "source": [
    "class Japanese(Person):\n",
    "    def __init__(self, name, age, food):\n",
    "        super().__init__(name, \"日本\", age)\n",
    "        self.food = food\n",
    "    \n",
    "    def introduce(self):\n",
    "        super().introduce()\n",
    "        print(\"好きな食べ物は{}です。\".format(self.food))"
   ]
  },
  {
   "cell_type": "code",
   "execution_count": 18,
   "id": "24ff7992-7920-4685-82bf-08c13b01a613",
   "metadata": {},
   "outputs": [
    {
     "name": "stdout",
     "output_type": "stream",
     "text": [
      "こんにちは、私は田中です。日本人です。\n",
      "好きな食べ物はラーメンです。\n"
     ]
    }
   ],
   "source": [
    "Japanese(\"田中\", 25,\"ラーメン\").introduce()\n"
   ]
  },
  {
   "cell_type": "code",
   "execution_count": null,
   "id": "0e40046d-d281-4f13-ada8-b15e4cbc3613",
   "metadata": {},
   "outputs": [],
   "source": []
  }
 ],
 "metadata": {
  "kernelspec": {
   "display_name": "Python 3",
   "language": "python",
   "name": "python3"
  },
  "language_info": {
   "codemirror_mode": {
    "name": "ipython",
    "version": 3
   },
   "file_extension": ".py",
   "mimetype": "text/x-python",
   "name": "python",
   "nbconvert_exporter": "python",
   "pygments_lexer": "ipython3",
   "version": "3.8.8"
  }
 },
 "nbformat": 4,
 "nbformat_minor": 5
}
