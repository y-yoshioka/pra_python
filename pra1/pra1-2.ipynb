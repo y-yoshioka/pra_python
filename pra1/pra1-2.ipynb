{
 "cells": [
  {
   "cell_type": "code",
   "execution_count": 8,
   "id": "40668e70-b735-4193-8851-89020ac1d7e1",
   "metadata": {},
   "outputs": [],
   "source": [
    "price = 150"
   ]
  },
  {
   "cell_type": "code",
   "execution_count": 9,
   "id": "786faefc-0958-4c3d-8e5e-b87d97aa2291",
   "metadata": {},
   "outputs": [],
   "source": [
    "tax = 1.08"
   ]
  },
  {
   "cell_type": "code",
   "execution_count": 11,
   "id": "1a3fcb93-b0a7-424e-b7bc-382bbbe32045",
   "metadata": {},
   "outputs": [],
   "source": [
    "amount = price * tax"
   ]
  },
  {
   "cell_type": "code",
   "execution_count": 12,
   "id": "24439e58-4f8e-4a1b-af76-ebf169584fc7",
   "metadata": {},
   "outputs": [
    {
     "name": "stdout",
     "output_type": "stream",
     "text": [
      "162.0\n"
     ]
    }
   ],
   "source": [
    "print(amount)"
   ]
  },
  {
   "cell_type": "markdown",
   "id": "0023e396-4624-441c-9ff6-4c97cd59c288",
   "metadata": {},
   "source": [
    "## こんにちは"
   ]
  },
  {
   "cell_type": "code",
   "execution_count": 6,
   "id": "05e9092b-e466-41dc-864a-acc013adf605",
   "metadata": {},
   "outputs": [
    {
     "data": {
      "text/plain": [
       "True"
      ]
     },
     "execution_count": 6,
     "metadata": {},
     "output_type": "execute_result"
    }
   ],
   "source": [
    "1 < 3"
   ]
  },
  {
   "cell_type": "code",
   "execution_count": 13,
   "id": "0f6f4f79-903a-4082-a09a-a5a8b86dda57",
   "metadata": {},
   "outputs": [
    {
     "data": {
      "text/plain": [
       "False"
      ]
     },
     "execution_count": 13,
     "metadata": {},
     "output_type": "execute_result"
    }
   ],
   "source": [
    "(1 > 3)"
   ]
  },
  {
   "cell_type": "code",
   "execution_count": 9,
   "id": "5bc7ce31-cafd-455a-af35-e1bc7fb8d6de",
   "metadata": {},
   "outputs": [
    {
     "data": {
      "text/plain": [
       "False"
      ]
     },
     "execution_count": 9,
     "metadata": {},
     "output_type": "execute_result"
    }
   ],
   "source": [
    "(1 > 3)"
   ]
  },
  {
   "cell_type": "code",
   "execution_count": 14,
   "id": "ac6a95ec-f042-45c5-8727-deb2a335f4cc",
   "metadata": {},
   "outputs": [
    {
     "data": {
      "text/plain": [
       "True"
      ]
     },
     "execution_count": 14,
     "metadata": {},
     "output_type": "execute_result"
    }
   ],
   "source": [
    "1 != 3"
   ]
  },
  {
   "cell_type": "code",
   "execution_count": 15,
   "id": "c3a3bd11-5ce0-4a8b-ba1a-aa2ba1f39708",
   "metadata": {},
   "outputs": [
    {
     "data": {
      "text/plain": [
       "int"
      ]
     },
     "execution_count": 15,
     "metadata": {},
     "output_type": "execute_result"
    }
   ],
   "source": [
    "a = 120\n",
    "type (a)"
   ]
  },
  {
   "cell_type": "code",
   "execution_count": 17,
   "id": "d7add166-548b-456b-89fb-15fb3ef81518",
   "metadata": {},
   "outputs": [
    {
     "data": {
      "text/plain": [
       "float"
      ]
     },
     "execution_count": 17,
     "metadata": {},
     "output_type": "execute_result"
    }
   ],
   "source": [
    "b = 1.02\n",
    "type (b)"
   ]
  },
  {
   "cell_type": "code",
   "execution_count": 19,
   "id": "e8dffbf1-1d26-48ee-9082-54530c791c6a",
   "metadata": {},
   "outputs": [
    {
     "data": {
      "text/plain": [
       "complex"
      ]
     },
     "execution_count": 19,
     "metadata": {},
     "output_type": "execute_result"
    }
   ],
   "source": [
    "complex = 3j\n",
    "type (complex)"
   ]
  },
  {
   "cell_type": "code",
   "execution_count": 20,
   "id": "a5e0f852-1d3a-4a5e-945e-36015ce80050",
   "metadata": {},
   "outputs": [
    {
     "data": {
      "text/plain": [
       "[10, 20]"
      ]
     },
     "execution_count": 20,
     "metadata": {},
     "output_type": "execute_result"
    }
   ],
   "source": [
    "c = [10, 20]\n",
    "c"
   ]
  },
  {
   "cell_type": "code",
   "execution_count": 21,
   "id": "ae4edc36-7919-4310-83ee-99ea8155af10",
   "metadata": {},
   "outputs": [
    {
     "data": {
      "text/plain": [
       "list"
      ]
     },
     "execution_count": 21,
     "metadata": {},
     "output_type": "execute_result"
    }
   ],
   "source": [
    "type(c)"
   ]
  },
  {
   "cell_type": "code",
   "execution_count": 24,
   "id": "8e55199a-ba06-497c-bcad-43d89a500e41",
   "metadata": {},
   "outputs": [
    {
     "data": {
      "text/plain": [
       "dict"
      ]
     },
     "execution_count": 24,
     "metadata": {},
     "output_type": "execute_result"
    }
   ],
   "source": [
    "d = {}\n",
    "type (d)"
   ]
  },
  {
   "cell_type": "code",
   "execution_count": 26,
   "id": "8efb2aee-50f5-4a94-b6a9-c3f0785c48e0",
   "metadata": {},
   "outputs": [
    {
     "data": {
      "text/plain": [
       "tuple"
      ]
     },
     "execution_count": 26,
     "metadata": {},
     "output_type": "execute_result"
    }
   ],
   "source": [
    "e = ()\n",
    "type (e)"
   ]
  },
  {
   "cell_type": "code",
   "execution_count": null,
   "id": "afd5600e-9e78-4268-9224-fa2ab51b81da",
   "metadata": {},
   "outputs": [],
   "source": []
  }
 ],
 "metadata": {
  "kernelspec": {
   "display_name": "Python 3",
   "language": "python",
   "name": "python3"
  },
  "language_info": {
   "codemirror_mode": {
    "name": "ipython",
    "version": 3
   },
   "file_extension": ".py",
   "mimetype": "text/x-python",
   "name": "python",
   "nbconvert_exporter": "python",
   "pygments_lexer": "ipython3",
   "version": "3.8.8"
  }
 },
 "nbformat": 4,
 "nbformat_minor": 5
}
