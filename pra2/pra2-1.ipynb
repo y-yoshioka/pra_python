{
 "cells": [
  {
   "cell_type": "code",
   "execution_count": 1,
   "id": "7abb6ada-b8f7-4537-a300-b824c21fcef3",
   "metadata": {},
   "outputs": [],
   "source": [
    "import numpy as np\n",
    "import matplotlib.pyplot as plt"
   ]
  },
  {
   "cell_type": "code",
   "execution_count": 2,
   "id": "0729de3a-19c9-427f-91b2-78a84186452c",
   "metadata": {},
   "outputs": [
    {
     "data": {
      "text/plain": [
       "array([[235., 591.],\n",
       "       [216., 539.],\n",
       "       [148., 413.],\n",
       "       [ 35., 310.],\n",
       "       [ 85., 308.],\n",
       "       [204., 519.],\n",
       "       [ 49., 325.],\n",
       "       [ 25., 332.],\n",
       "       [173., 498.],\n",
       "       [191., 498.],\n",
       "       [134., 392.],\n",
       "       [ 99., 334.],\n",
       "       [117., 385.],\n",
       "       [112., 387.],\n",
       "       [162., 425.],\n",
       "       [272., 659.],\n",
       "       [159., 400.],\n",
       "       [159., 427.],\n",
       "       [ 59., 319.],\n",
       "       [198., 522.]])"
      ]
     },
     "execution_count": 2,
     "metadata": {},
     "output_type": "execute_result"
    }
   ],
   "source": [
    "# 学習データ読み込み\n",
    "train = np.loadtxt('kaiki.csv', delimiter = ',' , skiprows = 1 )\n",
    "train"
   ]
  },
  {
   "cell_type": "code",
   "execution_count": 3,
   "id": "a3b3a3da-3e63-4076-be1d-65b6b41b2e54",
   "metadata": {},
   "outputs": [],
   "source": [
    "train_x = train[:,0]\n",
    "train_y = train[:,1]"
   ]
  },
  {
   "cell_type": "code",
   "execution_count": 4,
   "id": "29ea673f-e00e-480b-86d7-a87307cf9690",
   "metadata": {},
   "outputs": [
    {
     "data": {
      "image/png": "[encoded data removed]",
      "text/plain": [
       "<Figure size 432x288 with 1 Axes>"
      ]
     },
     "metadata": {
      "needs_background": "light"
     },
     "output_type": "display_data"
    }
   ],
   "source": [
    "# プロット\n",
    "plt.plot(train_x, train_y, 'o')\n",
    "plt.show()"
   ]
  },
  {
   "cell_type": "code",
   "execution_count": null,
   "id": "bdbbf10f-258e-4f1f-a193-9d62fdd4bcfa",
   "metadata": {},
   "outputs": [],
   "source": []
  }
 ],
 "metadata": {
  "kernelspec": {
   "display_name": "Python 3",
   "language": "python",
   "name": "python3"
  },
  "language_info": {
   "codemirror_mode": {
    "name": "ipython",
    "version": 3
   },
   "file_extension": ".py",
   "mimetype": "text/x-python",
   "name": "python",
   "nbconvert_exporter": "python",
   "pygments_lexer": "ipython3",
   "version": "3.8.8"
  }
 },
 "nbformat": 4,
 "nbformat_minor": 5
}
